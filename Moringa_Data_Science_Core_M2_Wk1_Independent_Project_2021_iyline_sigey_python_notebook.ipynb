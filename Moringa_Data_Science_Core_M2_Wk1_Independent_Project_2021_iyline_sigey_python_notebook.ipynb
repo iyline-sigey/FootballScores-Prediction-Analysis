{
  "nbformat": 4,
  "nbformat_minor": 0,
  "metadata": {
    "colab": {
      "name": "Moringa_Data_Science_Core-M2-Wk1_Independent_Project_2021_iyline_sigey_python_notebook",
      "provenance": [],
      "collapsed_sections": [],
      "toc_visible": true
    },
    "kernelspec": {
      "name": "python3",
      "display_name": "Python 3"
    },
    "language_info": {
      "name": "python"
    }
  },
  "cells": [
    {
      "cell_type": "markdown",
      "metadata": {
        "id": "FzGVUB2hdw5k"
      },
      "source": [
        "# **1.Defining the Question**"
      ]
    },
    {
      "cell_type": "markdown",
      "metadata": {
        "id": "AZiKik-geA9i"
      },
      "source": [
        "**a.Specifying the Question**"
      ]
    },
    {
      "cell_type": "markdown",
      "metadata": {
        "id": "CiI3LlXngeQe"
      },
      "source": [
        "We have been recruited as a football analyst in Mchezopesa Ltd and tasked to predict results of a game between team 1 and team 2, based on who's home and who's away, and on whether or not the game is friendly,including rank in our training."
      ]
    },
    {
      "cell_type": "markdown",
      "metadata": {
        "id": "e4HF1cQMeTU9"
      },
      "source": [
        "**b.Defining the Metric for Success**"
      ]
    },
    {
      "cell_type": "markdown",
      "metadata": {
        "id": "Se0O872ihQwh"
      },
      "source": [
        "Creating an effective model that will be able to;\n",
        "\n",
        "1.Predict how many goals the home team scores.\n",
        "\n",
        "2.Predict how many goals the away team scores.\n",
        "\n",
        "3.Figure out from the home teams perspective if the game is a Win,Loss or Draw."
      ]
    },
    {
      "cell_type": "markdown",
      "metadata": {
        "id": "cAFR0csfeas_"
      },
      "source": [
        "**c.Understanding the Context**"
      ]
    },
    {
      "cell_type": "markdown",
      "metadata": {
        "id": "6PURe6zWkB4k"
      },
      "source": [
        "The Men's Fifa WorldRanking is a ranking system for men's national teams in football association.The teams are ranked based on their game results with the most successful teams being ranked highest.The rankis were introduced in December 1992.\n",
        "A point system is used,with points being awarded based on the results of all Fifa_recognised full international matches.\n",
        "\n",
        "However,in August 2018 the ranking system was revamped and have adopted the Elo rating system used in chess and go."
      ]
    },
    {
      "cell_type": "markdown",
      "metadata": {
        "id": "7UT5AhXFeicQ"
      },
      "source": [
        "**d.Recording the Experimental Design**"
      ]
    },
    {
      "cell_type": "markdown",
      "metadata": {
        "id": "Bpfl7aYxlu_D"
      },
      "source": [
        "The following steps will be followed during the analysis;\n",
        "\n",
        "\n",
        "\n",
        "\n",
        "1.Defining the question\n",
        "\n",
        "2.Reading the Data\n",
        "\n",
        "3.Checking the data\n",
        "\n",
        "4.Data Cleaning\n",
        "\n",
        "5.Performing Explolatory Data Analysis-Univariate and Bivariate Analysis\n",
        "\n",
        "6.Prediction Models-Polynomial and Logistic Regression Models\n",
        "\n",
        "7.Challenging the solution\n",
        "\n",
        "8.Conclusion.   \n",
        "\n",
        "\n",
        "\n",
        "\n"
      ]
    },
    {
      "cell_type": "markdown",
      "metadata": {
        "id": "aAF1q7Qaew5B"
      },
      "source": [
        "**e.Data Relevance**"
      ]
    },
    {
      "cell_type": "markdown",
      "metadata": {
        "id": "t0Op_I8-m7aa"
      },
      "source": [
        "This will be discussed after the analysis and prediction models have been performed."
      ]
    },
    {
      "cell_type": "markdown",
      "metadata": {
        "id": "awN4eUP0fZbs"
      },
      "source": [
        "**2.Reading the Data**"
      ]
    },
    {
      "cell_type": "markdown",
      "metadata": {
        "id": "MSgnWuVUn3cw"
      },
      "source": [
        "**Importing our Libraries**"
      ]
    },
    {
      "cell_type": "code",
      "metadata": {
        "id": "O2o_SJl2pHam"
      },
      "source": [
        "#importing all the libraries we will need for our analysis\n",
        "import pandas as pd\n",
        "import numpy as np\n",
        "import seaborn as sns\n",
        "import matplotlib\n",
        "from matplotlib import pyplot as plt\n",
        "%matplotlib inline\n",
        "from pandas_profiling import ProfileReport\n",
        "from scipy import stats\n",
        "from scipy.stats import norm\n",
        "from scipy.stats import t\n",
        "import math\n",
        "from scipy.stats import ttest_ind\n",
        "import statsmodels.api as sm\n"
      ],
      "execution_count": 100,
      "outputs": []
    },
    {
      "cell_type": "code",
      "metadata": {
        "id": "0x_v3w8zpJ1E"
      },
      "source": [
        "# let us set the warnings that may appear in our analysis off\n",
        "\n",
        "import warnings\n",
        "warnings.filterwarnings('ignore') \n",
        "\n",
        "#let us set the pandas warning for chained assignments off\n",
        "pd.options.mode.chained_assignment = None  # default='warn'"
      ],
      "execution_count": 101,
      "outputs": []
    },
    {
      "cell_type": "markdown",
      "metadata": {
        "id": "7dliLbowqSxO"
      },
      "source": [
        "**Loading and previewing our datasets**"
      ]
    },
    {
      "cell_type": "code",
      "metadata": {
        "colab": {
          "base_uri": "https://localhost:8080/",
          "height": 313
        },
        "id": "VWJEwB7zpXCA",
        "outputId": "851bca4a-e342-4c6d-e4a0-77e4c2895362"
      },
      "source": [
        "#Loading the  ranks datasets to our working environment\n",
        "rank=pd.read_csv('/fifa_ranking.csv')\n",
        "ranks.head()"
      ],
      "execution_count": 102,
      "outputs": [
        {
          "output_type": "execute_result",
          "data": {
            "text/html": [
              "<div>\n",
              "<style scoped>\n",
              "    .dataframe tbody tr th:only-of-type {\n",
              "        vertical-align: middle;\n",
              "    }\n",
              "\n",
              "    .dataframe tbody tr th {\n",
              "        vertical-align: top;\n",
              "    }\n",
              "\n",
              "    .dataframe thead th {\n",
              "        text-align: right;\n",
              "    }\n",
              "</style>\n",
              "<table border=\"1\" class=\"dataframe\">\n",
              "  <thead>\n",
              "    <tr style=\"text-align: right;\">\n",
              "      <th></th>\n",
              "      <th>rank</th>\n",
              "      <th>country_full</th>\n",
              "      <th>country_abrv</th>\n",
              "      <th>total_points</th>\n",
              "      <th>previous_points</th>\n",
              "      <th>rank_change</th>\n",
              "      <th>cur_year_avg</th>\n",
              "      <th>cur_year_avg_weighted</th>\n",
              "      <th>last_year_avg</th>\n",
              "      <th>last_year_avg_weighted</th>\n",
              "      <th>two_year_ago_avg</th>\n",
              "      <th>two_year_ago_weighted</th>\n",
              "      <th>three_year_ago_avg</th>\n",
              "      <th>three_year_ago_weighted</th>\n",
              "      <th>confederation</th>\n",
              "      <th>rank_date</th>\n",
              "    </tr>\n",
              "  </thead>\n",
              "  <tbody>\n",
              "    <tr>\n",
              "      <th>0</th>\n",
              "      <td>1</td>\n",
              "      <td>Germany</td>\n",
              "      <td>GER</td>\n",
              "      <td>0.0</td>\n",
              "      <td>57</td>\n",
              "      <td>0</td>\n",
              "      <td>0.0</td>\n",
              "      <td>0.0</td>\n",
              "      <td>0.0</td>\n",
              "      <td>0.0</td>\n",
              "      <td>0.0</td>\n",
              "      <td>0.0</td>\n",
              "      <td>0.0</td>\n",
              "      <td>0.0</td>\n",
              "      <td>UEFA</td>\n",
              "      <td>1993-08-08</td>\n",
              "    </tr>\n",
              "    <tr>\n",
              "      <th>1</th>\n",
              "      <td>2</td>\n",
              "      <td>Italy</td>\n",
              "      <td>ITA</td>\n",
              "      <td>0.0</td>\n",
              "      <td>57</td>\n",
              "      <td>0</td>\n",
              "      <td>0.0</td>\n",
              "      <td>0.0</td>\n",
              "      <td>0.0</td>\n",
              "      <td>0.0</td>\n",
              "      <td>0.0</td>\n",
              "      <td>0.0</td>\n",
              "      <td>0.0</td>\n",
              "      <td>0.0</td>\n",
              "      <td>UEFA</td>\n",
              "      <td>1993-08-08</td>\n",
              "    </tr>\n",
              "    <tr>\n",
              "      <th>2</th>\n",
              "      <td>3</td>\n",
              "      <td>Switzerland</td>\n",
              "      <td>SUI</td>\n",
              "      <td>0.0</td>\n",
              "      <td>50</td>\n",
              "      <td>9</td>\n",
              "      <td>0.0</td>\n",
              "      <td>0.0</td>\n",
              "      <td>0.0</td>\n",
              "      <td>0.0</td>\n",
              "      <td>0.0</td>\n",
              "      <td>0.0</td>\n",
              "      <td>0.0</td>\n",
              "      <td>0.0</td>\n",
              "      <td>UEFA</td>\n",
              "      <td>1993-08-08</td>\n",
              "    </tr>\n",
              "    <tr>\n",
              "      <th>3</th>\n",
              "      <td>4</td>\n",
              "      <td>Sweden</td>\n",
              "      <td>SWE</td>\n",
              "      <td>0.0</td>\n",
              "      <td>55</td>\n",
              "      <td>0</td>\n",
              "      <td>0.0</td>\n",
              "      <td>0.0</td>\n",
              "      <td>0.0</td>\n",
              "      <td>0.0</td>\n",
              "      <td>0.0</td>\n",
              "      <td>0.0</td>\n",
              "      <td>0.0</td>\n",
              "      <td>0.0</td>\n",
              "      <td>UEFA</td>\n",
              "      <td>1993-08-08</td>\n",
              "    </tr>\n",
              "    <tr>\n",
              "      <th>4</th>\n",
              "      <td>5</td>\n",
              "      <td>Argentina</td>\n",
              "      <td>ARG</td>\n",
              "      <td>0.0</td>\n",
              "      <td>51</td>\n",
              "      <td>5</td>\n",
              "      <td>0.0</td>\n",
              "      <td>0.0</td>\n",
              "      <td>0.0</td>\n",
              "      <td>0.0</td>\n",
              "      <td>0.0</td>\n",
              "      <td>0.0</td>\n",
              "      <td>0.0</td>\n",
              "      <td>0.0</td>\n",
              "      <td>CONMEBOL</td>\n",
              "      <td>1993-08-08</td>\n",
              "    </tr>\n",
              "  </tbody>\n",
              "</table>\n",
              "</div>"
            ],
            "text/plain": [
              "   rank country_full  ... confederation   rank_date\n",
              "0     1      Germany  ...          UEFA  1993-08-08\n",
              "1     2        Italy  ...          UEFA  1993-08-08\n",
              "2     3  Switzerland  ...          UEFA  1993-08-08\n",
              "3     4       Sweden  ...          UEFA  1993-08-08\n",
              "4     5    Argentina  ...      CONMEBOL  1993-08-08\n",
              "\n",
              "[5 rows x 16 columns]"
            ]
          },
          "metadata": {
            "tags": []
          },
          "execution_count": 102
        }
      ]
    },
    {
      "cell_type": "code",
      "metadata": {
        "colab": {
          "base_uri": "https://localhost:8080/",
          "height": 313
        },
        "id": "BT7rFGAcFGI7",
        "outputId": "61219de6-4045-49df-ff24-2e9874199bbe"
      },
      "source": [
        "#previewing the last 5 records\n",
        "rank.tail()"
      ],
      "execution_count": 103,
      "outputs": [
        {
          "output_type": "execute_result",
          "data": {
            "text/html": [
              "<div>\n",
              "<style scoped>\n",
              "    .dataframe tbody tr th:only-of-type {\n",
              "        vertical-align: middle;\n",
              "    }\n",
              "\n",
              "    .dataframe tbody tr th {\n",
              "        vertical-align: top;\n",
              "    }\n",
              "\n",
              "    .dataframe thead th {\n",
              "        text-align: right;\n",
              "    }\n",
              "</style>\n",
              "<table border=\"1\" class=\"dataframe\">\n",
              "  <thead>\n",
              "    <tr style=\"text-align: right;\">\n",
              "      <th></th>\n",
              "      <th>rank</th>\n",
              "      <th>country_full</th>\n",
              "      <th>country_abrv</th>\n",
              "      <th>total_points</th>\n",
              "      <th>previous_points</th>\n",
              "      <th>rank_change</th>\n",
              "      <th>cur_year_avg</th>\n",
              "      <th>cur_year_avg_weighted</th>\n",
              "      <th>last_year_avg</th>\n",
              "      <th>last_year_avg_weighted</th>\n",
              "      <th>two_year_ago_avg</th>\n",
              "      <th>two_year_ago_weighted</th>\n",
              "      <th>three_year_ago_avg</th>\n",
              "      <th>three_year_ago_weighted</th>\n",
              "      <th>confederation</th>\n",
              "      <th>rank_date</th>\n",
              "    </tr>\n",
              "  </thead>\n",
              "  <tbody>\n",
              "    <tr>\n",
              "      <th>57788</th>\n",
              "      <td>206</td>\n",
              "      <td>Anguilla</td>\n",
              "      <td>AIA</td>\n",
              "      <td>0.0</td>\n",
              "      <td>0</td>\n",
              "      <td>1</td>\n",
              "      <td>0.0</td>\n",
              "      <td>0.0</td>\n",
              "      <td>0.0</td>\n",
              "      <td>0.0</td>\n",
              "      <td>0.0</td>\n",
              "      <td>0.0</td>\n",
              "      <td>0.0</td>\n",
              "      <td>0.0</td>\n",
              "      <td>CONCACAF</td>\n",
              "      <td>2018-06-07</td>\n",
              "    </tr>\n",
              "    <tr>\n",
              "      <th>57789</th>\n",
              "      <td>206</td>\n",
              "      <td>Bahamas</td>\n",
              "      <td>BAH</td>\n",
              "      <td>0.0</td>\n",
              "      <td>0</td>\n",
              "      <td>1</td>\n",
              "      <td>0.0</td>\n",
              "      <td>0.0</td>\n",
              "      <td>0.0</td>\n",
              "      <td>0.0</td>\n",
              "      <td>0.0</td>\n",
              "      <td>0.0</td>\n",
              "      <td>0.0</td>\n",
              "      <td>0.0</td>\n",
              "      <td>CONCACAF</td>\n",
              "      <td>2018-06-07</td>\n",
              "    </tr>\n",
              "    <tr>\n",
              "      <th>57790</th>\n",
              "      <td>206</td>\n",
              "      <td>Eritrea</td>\n",
              "      <td>ERI</td>\n",
              "      <td>0.0</td>\n",
              "      <td>0</td>\n",
              "      <td>1</td>\n",
              "      <td>0.0</td>\n",
              "      <td>0.0</td>\n",
              "      <td>0.0</td>\n",
              "      <td>0.0</td>\n",
              "      <td>0.0</td>\n",
              "      <td>0.0</td>\n",
              "      <td>0.0</td>\n",
              "      <td>0.0</td>\n",
              "      <td>CAF</td>\n",
              "      <td>2018-06-07</td>\n",
              "    </tr>\n",
              "    <tr>\n",
              "      <th>57791</th>\n",
              "      <td>206</td>\n",
              "      <td>Somalia</td>\n",
              "      <td>SOM</td>\n",
              "      <td>0.0</td>\n",
              "      <td>0</td>\n",
              "      <td>1</td>\n",
              "      <td>0.0</td>\n",
              "      <td>0.0</td>\n",
              "      <td>0.0</td>\n",
              "      <td>0.0</td>\n",
              "      <td>0.0</td>\n",
              "      <td>0.0</td>\n",
              "      <td>0.0</td>\n",
              "      <td>0.0</td>\n",
              "      <td>CAF</td>\n",
              "      <td>2018-06-07</td>\n",
              "    </tr>\n",
              "    <tr>\n",
              "      <th>57792</th>\n",
              "      <td>206</td>\n",
              "      <td>Tonga</td>\n",
              "      <td>TGA</td>\n",
              "      <td>0.0</td>\n",
              "      <td>0</td>\n",
              "      <td>1</td>\n",
              "      <td>0.0</td>\n",
              "      <td>0.0</td>\n",
              "      <td>0.0</td>\n",
              "      <td>0.0</td>\n",
              "      <td>0.0</td>\n",
              "      <td>0.0</td>\n",
              "      <td>0.0</td>\n",
              "      <td>0.0</td>\n",
              "      <td>OFC</td>\n",
              "      <td>2018-06-07</td>\n",
              "    </tr>\n",
              "  </tbody>\n",
              "</table>\n",
              "</div>"
            ],
            "text/plain": [
              "       rank country_full  ... confederation   rank_date\n",
              "57788   206     Anguilla  ...      CONCACAF  2018-06-07\n",
              "57789   206      Bahamas  ...      CONCACAF  2018-06-07\n",
              "57790   206      Eritrea  ...           CAF  2018-06-07\n",
              "57791   206      Somalia  ...           CAF  2018-06-07\n",
              "57792   206        Tonga  ...           OFC  2018-06-07\n",
              "\n",
              "[5 rows x 16 columns]"
            ]
          },
          "metadata": {
            "tags": []
          },
          "execution_count": 103
        }
      ]
    },
    {
      "cell_type": "code",
      "metadata": {
        "colab": {
          "base_uri": "https://localhost:8080/",
          "height": 206
        },
        "id": "XxbAH_dvu8pJ",
        "outputId": "e40f6dc4-9826-4a75-dfae-83bac57fa9b8"
      },
      "source": [
        "#Loading the results dataset\n",
        "results=pd.read_csv('/results.csv')\n",
        "results.head()"
      ],
      "execution_count": 104,
      "outputs": [
        {
          "output_type": "execute_result",
          "data": {
            "text/html": [
              "<div>\n",
              "<style scoped>\n",
              "    .dataframe tbody tr th:only-of-type {\n",
              "        vertical-align: middle;\n",
              "    }\n",
              "\n",
              "    .dataframe tbody tr th {\n",
              "        vertical-align: top;\n",
              "    }\n",
              "\n",
              "    .dataframe thead th {\n",
              "        text-align: right;\n",
              "    }\n",
              "</style>\n",
              "<table border=\"1\" class=\"dataframe\">\n",
              "  <thead>\n",
              "    <tr style=\"text-align: right;\">\n",
              "      <th></th>\n",
              "      <th>date</th>\n",
              "      <th>home_team</th>\n",
              "      <th>away_team</th>\n",
              "      <th>home_score</th>\n",
              "      <th>away_score</th>\n",
              "      <th>tournament</th>\n",
              "      <th>city</th>\n",
              "      <th>country</th>\n",
              "      <th>neutral</th>\n",
              "    </tr>\n",
              "  </thead>\n",
              "  <tbody>\n",
              "    <tr>\n",
              "      <th>0</th>\n",
              "      <td>1872-11-30</td>\n",
              "      <td>Scotland</td>\n",
              "      <td>England</td>\n",
              "      <td>0</td>\n",
              "      <td>0</td>\n",
              "      <td>Friendly</td>\n",
              "      <td>Glasgow</td>\n",
              "      <td>Scotland</td>\n",
              "      <td>False</td>\n",
              "    </tr>\n",
              "    <tr>\n",
              "      <th>1</th>\n",
              "      <td>1873-03-08</td>\n",
              "      <td>England</td>\n",
              "      <td>Scotland</td>\n",
              "      <td>4</td>\n",
              "      <td>2</td>\n",
              "      <td>Friendly</td>\n",
              "      <td>London</td>\n",
              "      <td>England</td>\n",
              "      <td>False</td>\n",
              "    </tr>\n",
              "    <tr>\n",
              "      <th>2</th>\n",
              "      <td>1874-03-07</td>\n",
              "      <td>Scotland</td>\n",
              "      <td>England</td>\n",
              "      <td>2</td>\n",
              "      <td>1</td>\n",
              "      <td>Friendly</td>\n",
              "      <td>Glasgow</td>\n",
              "      <td>Scotland</td>\n",
              "      <td>False</td>\n",
              "    </tr>\n",
              "    <tr>\n",
              "      <th>3</th>\n",
              "      <td>1875-03-06</td>\n",
              "      <td>England</td>\n",
              "      <td>Scotland</td>\n",
              "      <td>2</td>\n",
              "      <td>2</td>\n",
              "      <td>Friendly</td>\n",
              "      <td>London</td>\n",
              "      <td>England</td>\n",
              "      <td>False</td>\n",
              "    </tr>\n",
              "    <tr>\n",
              "      <th>4</th>\n",
              "      <td>1876-03-04</td>\n",
              "      <td>Scotland</td>\n",
              "      <td>England</td>\n",
              "      <td>3</td>\n",
              "      <td>0</td>\n",
              "      <td>Friendly</td>\n",
              "      <td>Glasgow</td>\n",
              "      <td>Scotland</td>\n",
              "      <td>False</td>\n",
              "    </tr>\n",
              "  </tbody>\n",
              "</table>\n",
              "</div>"
            ],
            "text/plain": [
              "         date home_team away_team  ...     city   country neutral\n",
              "0  1872-11-30  Scotland   England  ...  Glasgow  Scotland   False\n",
              "1  1873-03-08   England  Scotland  ...   London   England   False\n",
              "2  1874-03-07  Scotland   England  ...  Glasgow  Scotland   False\n",
              "3  1875-03-06   England  Scotland  ...   London   England   False\n",
              "4  1876-03-04  Scotland   England  ...  Glasgow  Scotland   False\n",
              "\n",
              "[5 rows x 9 columns]"
            ]
          },
          "metadata": {
            "tags": []
          },
          "execution_count": 104
        }
      ]
    },
    {
      "cell_type": "code",
      "metadata": {
        "colab": {
          "base_uri": "https://localhost:8080/",
          "height": 293
        },
        "id": "l9vsupUXFK4g",
        "outputId": "e26742a3-e9cf-4495-c70f-83a14c084783"
      },
      "source": [
        "#previewing the last 5 records\n",
        "results.tail()\n"
      ],
      "execution_count": 105,
      "outputs": [
        {
          "output_type": "execute_result",
          "data": {
            "text/html": [
              "<div>\n",
              "<style scoped>\n",
              "    .dataframe tbody tr th:only-of-type {\n",
              "        vertical-align: middle;\n",
              "    }\n",
              "\n",
              "    .dataframe tbody tr th {\n",
              "        vertical-align: top;\n",
              "    }\n",
              "\n",
              "    .dataframe thead th {\n",
              "        text-align: right;\n",
              "    }\n",
              "</style>\n",
              "<table border=\"1\" class=\"dataframe\">\n",
              "  <thead>\n",
              "    <tr style=\"text-align: right;\">\n",
              "      <th></th>\n",
              "      <th>date</th>\n",
              "      <th>home_team</th>\n",
              "      <th>away_team</th>\n",
              "      <th>home_score</th>\n",
              "      <th>away_score</th>\n",
              "      <th>tournament</th>\n",
              "      <th>city</th>\n",
              "      <th>country</th>\n",
              "      <th>neutral</th>\n",
              "    </tr>\n",
              "  </thead>\n",
              "  <tbody>\n",
              "    <tr>\n",
              "      <th>40834</th>\n",
              "      <td>2019-07-18</td>\n",
              "      <td>American Samoa</td>\n",
              "      <td>Tahiti</td>\n",
              "      <td>8</td>\n",
              "      <td>1</td>\n",
              "      <td>Pacific Games</td>\n",
              "      <td>Apia</td>\n",
              "      <td>Samoa</td>\n",
              "      <td>True</td>\n",
              "    </tr>\n",
              "    <tr>\n",
              "      <th>40835</th>\n",
              "      <td>2019-07-18</td>\n",
              "      <td>Fiji</td>\n",
              "      <td>Solomon Islands</td>\n",
              "      <td>4</td>\n",
              "      <td>4</td>\n",
              "      <td>Pacific Games</td>\n",
              "      <td>Apia</td>\n",
              "      <td>Samoa</td>\n",
              "      <td>True</td>\n",
              "    </tr>\n",
              "    <tr>\n",
              "      <th>40836</th>\n",
              "      <td>2019-07-19</td>\n",
              "      <td>Senegal</td>\n",
              "      <td>Algeria</td>\n",
              "      <td>0</td>\n",
              "      <td>1</td>\n",
              "      <td>African Cup of Nations</td>\n",
              "      <td>Cairo</td>\n",
              "      <td>Egypt</td>\n",
              "      <td>True</td>\n",
              "    </tr>\n",
              "    <tr>\n",
              "      <th>40837</th>\n",
              "      <td>2019-07-19</td>\n",
              "      <td>Tajikistan</td>\n",
              "      <td>North Korea</td>\n",
              "      <td>0</td>\n",
              "      <td>1</td>\n",
              "      <td>Intercontinental Cup</td>\n",
              "      <td>Ahmedabad</td>\n",
              "      <td>India</td>\n",
              "      <td>True</td>\n",
              "    </tr>\n",
              "    <tr>\n",
              "      <th>40838</th>\n",
              "      <td>2019-07-20</td>\n",
              "      <td>Papua New Guinea</td>\n",
              "      <td>Fiji</td>\n",
              "      <td>1</td>\n",
              "      <td>1</td>\n",
              "      <td>Pacific Games</td>\n",
              "      <td>Apia</td>\n",
              "      <td>Samoa</td>\n",
              "      <td>True</td>\n",
              "    </tr>\n",
              "  </tbody>\n",
              "</table>\n",
              "</div>"
            ],
            "text/plain": [
              "             date         home_team  ... country  neutral\n",
              "40834  2019-07-18    American Samoa  ...   Samoa     True\n",
              "40835  2019-07-18              Fiji  ...   Samoa     True\n",
              "40836  2019-07-19           Senegal  ...   Egypt     True\n",
              "40837  2019-07-19        Tajikistan  ...   India     True\n",
              "40838  2019-07-20  Papua New Guinea  ...   Samoa     True\n",
              "\n",
              "[5 rows x 9 columns]"
            ]
          },
          "metadata": {
            "tags": []
          },
          "execution_count": 105
        }
      ]
    },
    {
      "cell_type": "markdown",
      "metadata": {
        "id": "FyUqlGQ3vThm"
      },
      "source": [
        "# **3.Checking the Data**"
      ]
    },
    {
      "cell_type": "markdown",
      "metadata": {
        "id": "k2Sl7U2ovgXO"
      },
      "source": [
        "**Checking the Ranking dataset**"
      ]
    },
    {
      "cell_type": "code",
      "metadata": {
        "colab": {
          "base_uri": "https://localhost:8080/"
        },
        "id": "DUERlxP5vYPY",
        "outputId": "6aa1362b-e403-47c1-afba-f1d10e0e6030"
      },
      "source": [
        "#Checking the rows \n",
        "\n",
        "rank.shape"
      ],
      "execution_count": 106,
      "outputs": [
        {
          "output_type": "execute_result",
          "data": {
            "text/plain": [
              "(57793, 16)"
            ]
          },
          "metadata": {
            "tags": []
          },
          "execution_count": 106
        }
      ]
    },
    {
      "cell_type": "code",
      "metadata": {
        "colab": {
          "base_uri": "https://localhost:8080/"
        },
        "id": "lI-H2YYG3_VP",
        "outputId": "c4a3b0e8-3966-4ff3-e5a3-d2b963613fc4"
      },
      "source": [
        "#ckecking the columns in the dataset\n",
        "rank.columns"
      ],
      "execution_count": 107,
      "outputs": [
        {
          "output_type": "execute_result",
          "data": {
            "text/plain": [
              "Index(['rank', 'country_full', 'country_abrv', 'total_points',\n",
              "       'previous_points', 'rank_change', 'cur_year_avg',\n",
              "       'cur_year_avg_weighted', 'last_year_avg', 'last_year_avg_weighted',\n",
              "       'two_year_ago_avg', 'two_year_ago_weighted', 'three_year_ago_avg',\n",
              "       'three_year_ago_weighted', 'confederation', 'rank_date'],\n",
              "      dtype='object')"
            ]
          },
          "metadata": {
            "tags": []
          },
          "execution_count": 107
        }
      ]
    },
    {
      "cell_type": "code",
      "metadata": {
        "colab": {
          "base_uri": "https://localhost:8080/"
        },
        "id": "kgGLQsM-zFxh",
        "outputId": "7ac07bc4-e0f4-4a3f-8b1b-2e37858b29a3"
      },
      "source": [
        "#checking if each column has appropriate datatypes\n",
        "rank.dtypes"
      ],
      "execution_count": 108,
      "outputs": [
        {
          "output_type": "execute_result",
          "data": {
            "text/plain": [
              "rank                         int64\n",
              "country_full                object\n",
              "country_abrv                object\n",
              "total_points               float64\n",
              "previous_points              int64\n",
              "rank_change                  int64\n",
              "cur_year_avg               float64\n",
              "cur_year_avg_weighted      float64\n",
              "last_year_avg              float64\n",
              "last_year_avg_weighted     float64\n",
              "two_year_ago_avg           float64\n",
              "two_year_ago_weighted      float64\n",
              "three_year_ago_avg         float64\n",
              "three_year_ago_weighted    float64\n",
              "confederation               object\n",
              "rank_date                   object\n",
              "dtype: object"
            ]
          },
          "metadata": {
            "tags": []
          },
          "execution_count": 108
        }
      ]
    },
    {
      "cell_type": "code",
      "metadata": {
        "colab": {
          "base_uri": "https://localhost:8080/"
        },
        "id": "o9el-w4i0SAS",
        "outputId": "01c34cf0-23bc-4620-ea65-23e2ae076d5a"
      },
      "source": [
        "#checking the dataset information\n",
        "rank.info()"
      ],
      "execution_count": 109,
      "outputs": [
        {
          "output_type": "stream",
          "text": [
            "<class 'pandas.core.frame.DataFrame'>\n",
            "RangeIndex: 57793 entries, 0 to 57792\n",
            "Data columns (total 16 columns):\n",
            " #   Column                   Non-Null Count  Dtype  \n",
            "---  ------                   --------------  -----  \n",
            " 0   rank                     57793 non-null  int64  \n",
            " 1   country_full             57793 non-null  object \n",
            " 2   country_abrv             57793 non-null  object \n",
            " 3   total_points             57793 non-null  float64\n",
            " 4   previous_points          57793 non-null  int64  \n",
            " 5   rank_change              57793 non-null  int64  \n",
            " 6   cur_year_avg             57793 non-null  float64\n",
            " 7   cur_year_avg_weighted    57793 non-null  float64\n",
            " 8   last_year_avg            57793 non-null  float64\n",
            " 9   last_year_avg_weighted   57793 non-null  float64\n",
            " 10  two_year_ago_avg         57793 non-null  float64\n",
            " 11  two_year_ago_weighted    57793 non-null  float64\n",
            " 12  three_year_ago_avg       57793 non-null  float64\n",
            " 13  three_year_ago_weighted  57793 non-null  float64\n",
            " 14  confederation            57793 non-null  object \n",
            " 15  rank_date                57793 non-null  object \n",
            "dtypes: float64(9), int64(3), object(4)\n",
            "memory usage: 7.1+ MB\n"
          ],
          "name": "stdout"
        }
      ]
    },
    {
      "cell_type": "code",
      "metadata": {
        "colab": {
          "base_uri": "https://localhost:8080/",
          "height": 320
        },
        "id": "LWNwELs10kAY",
        "outputId": "fe7c9df1-da6a-40d8-fa54-fa893f51d353"
      },
      "source": [
        "#checking the statistic summaries of the dataset\n",
        "rank.describe()"
      ],
      "execution_count": 110,
      "outputs": [
        {
          "output_type": "execute_result",
          "data": {
            "text/html": [
              "<div>\n",
              "<style scoped>\n",
              "    .dataframe tbody tr th:only-of-type {\n",
              "        vertical-align: middle;\n",
              "    }\n",
              "\n",
              "    .dataframe tbody tr th {\n",
              "        vertical-align: top;\n",
              "    }\n",
              "\n",
              "    .dataframe thead th {\n",
              "        text-align: right;\n",
              "    }\n",
              "</style>\n",
              "<table border=\"1\" class=\"dataframe\">\n",
              "  <thead>\n",
              "    <tr style=\"text-align: right;\">\n",
              "      <th></th>\n",
              "      <th>rank</th>\n",
              "      <th>total_points</th>\n",
              "      <th>previous_points</th>\n",
              "      <th>rank_change</th>\n",
              "      <th>cur_year_avg</th>\n",
              "      <th>cur_year_avg_weighted</th>\n",
              "      <th>last_year_avg</th>\n",
              "      <th>last_year_avg_weighted</th>\n",
              "      <th>two_year_ago_avg</th>\n",
              "      <th>two_year_ago_weighted</th>\n",
              "      <th>three_year_ago_avg</th>\n",
              "      <th>three_year_ago_weighted</th>\n",
              "    </tr>\n",
              "  </thead>\n",
              "  <tbody>\n",
              "    <tr>\n",
              "      <th>count</th>\n",
              "      <td>57793.000000</td>\n",
              "      <td>57793.000000</td>\n",
              "      <td>57793.000000</td>\n",
              "      <td>57793.000000</td>\n",
              "      <td>57793.000000</td>\n",
              "      <td>57793.000000</td>\n",
              "      <td>57793.000000</td>\n",
              "      <td>57793.000000</td>\n",
              "      <td>57793.000000</td>\n",
              "      <td>57793.000000</td>\n",
              "      <td>57793.000000</td>\n",
              "      <td>57793.000000</td>\n",
              "    </tr>\n",
              "    <tr>\n",
              "      <th>mean</th>\n",
              "      <td>101.628086</td>\n",
              "      <td>122.068637</td>\n",
              "      <td>332.302926</td>\n",
              "      <td>-0.009897</td>\n",
              "      <td>61.798602</td>\n",
              "      <td>61.798602</td>\n",
              "      <td>61.004602</td>\n",
              "      <td>30.502377</td>\n",
              "      <td>59.777462</td>\n",
              "      <td>17.933277</td>\n",
              "      <td>59.173916</td>\n",
              "      <td>11.834811</td>\n",
              "    </tr>\n",
              "    <tr>\n",
              "      <th>std</th>\n",
              "      <td>58.618424</td>\n",
              "      <td>260.426863</td>\n",
              "      <td>302.872948</td>\n",
              "      <td>5.804309</td>\n",
              "      <td>138.014883</td>\n",
              "      <td>138.014883</td>\n",
              "      <td>137.688204</td>\n",
              "      <td>68.844143</td>\n",
              "      <td>136.296079</td>\n",
              "      <td>40.888849</td>\n",
              "      <td>135.533343</td>\n",
              "      <td>27.106675</td>\n",
              "    </tr>\n",
              "    <tr>\n",
              "      <th>min</th>\n",
              "      <td>1.000000</td>\n",
              "      <td>0.000000</td>\n",
              "      <td>0.000000</td>\n",
              "      <td>-72.000000</td>\n",
              "      <td>0.000000</td>\n",
              "      <td>0.000000</td>\n",
              "      <td>0.000000</td>\n",
              "      <td>0.000000</td>\n",
              "      <td>0.000000</td>\n",
              "      <td>0.000000</td>\n",
              "      <td>0.000000</td>\n",
              "      <td>0.000000</td>\n",
              "    </tr>\n",
              "    <tr>\n",
              "      <th>25%</th>\n",
              "      <td>51.000000</td>\n",
              "      <td>0.000000</td>\n",
              "      <td>56.000000</td>\n",
              "      <td>-2.000000</td>\n",
              "      <td>0.000000</td>\n",
              "      <td>0.000000</td>\n",
              "      <td>0.000000</td>\n",
              "      <td>0.000000</td>\n",
              "      <td>0.000000</td>\n",
              "      <td>0.000000</td>\n",
              "      <td>0.000000</td>\n",
              "      <td>0.000000</td>\n",
              "    </tr>\n",
              "    <tr>\n",
              "      <th>50%</th>\n",
              "      <td>101.000000</td>\n",
              "      <td>0.000000</td>\n",
              "      <td>272.000000</td>\n",
              "      <td>0.000000</td>\n",
              "      <td>0.000000</td>\n",
              "      <td>0.000000</td>\n",
              "      <td>0.000000</td>\n",
              "      <td>0.000000</td>\n",
              "      <td>0.000000</td>\n",
              "      <td>0.000000</td>\n",
              "      <td>0.000000</td>\n",
              "      <td>0.000000</td>\n",
              "    </tr>\n",
              "    <tr>\n",
              "      <th>75%</th>\n",
              "      <td>152.000000</td>\n",
              "      <td>92.790000</td>\n",
              "      <td>525.000000</td>\n",
              "      <td>1.000000</td>\n",
              "      <td>32.250000</td>\n",
              "      <td>32.250000</td>\n",
              "      <td>26.660000</td>\n",
              "      <td>13.330000</td>\n",
              "      <td>21.500000</td>\n",
              "      <td>6.450000</td>\n",
              "      <td>21.250000</td>\n",
              "      <td>4.250000</td>\n",
              "    </tr>\n",
              "    <tr>\n",
              "      <th>max</th>\n",
              "      <td>209.000000</td>\n",
              "      <td>1775.030000</td>\n",
              "      <td>1920.000000</td>\n",
              "      <td>92.000000</td>\n",
              "      <td>1158.660000</td>\n",
              "      <td>1158.660000</td>\n",
              "      <td>1169.570000</td>\n",
              "      <td>584.790000</td>\n",
              "      <td>1159.710000</td>\n",
              "      <td>347.910000</td>\n",
              "      <td>1200.770000</td>\n",
              "      <td>240.150000</td>\n",
              "    </tr>\n",
              "  </tbody>\n",
              "</table>\n",
              "</div>"
            ],
            "text/plain": [
              "               rank  total_points  ...  three_year_ago_avg  three_year_ago_weighted\n",
              "count  57793.000000  57793.000000  ...        57793.000000             57793.000000\n",
              "mean     101.628086    122.068637  ...           59.173916                11.834811\n",
              "std       58.618424    260.426863  ...          135.533343                27.106675\n",
              "min        1.000000      0.000000  ...            0.000000                 0.000000\n",
              "25%       51.000000      0.000000  ...            0.000000                 0.000000\n",
              "50%      101.000000      0.000000  ...            0.000000                 0.000000\n",
              "75%      152.000000     92.790000  ...           21.250000                 4.250000\n",
              "max      209.000000   1775.030000  ...         1200.770000               240.150000\n",
              "\n",
              "[8 rows x 12 columns]"
            ]
          },
          "metadata": {
            "tags": []
          },
          "execution_count": 110
        }
      ]
    },
    {
      "cell_type": "markdown",
      "metadata": {
        "id": "xEZApUqMxrkK"
      },
      "source": [
        "**Checking the Results Dataset**"
      ]
    },
    {
      "cell_type": "code",
      "metadata": {
        "colab": {
          "base_uri": "https://localhost:8080/"
        },
        "id": "1vZoIPqPwgB_",
        "outputId": "7e9dcd10-9bfb-4800-88fc-b69786764fc4"
      },
      "source": [
        "#checking the number records in the dataset\n",
        "\n",
        "results.shape"
      ],
      "execution_count": 111,
      "outputs": [
        {
          "output_type": "execute_result",
          "data": {
            "text/plain": [
              "(40839, 9)"
            ]
          },
          "metadata": {
            "tags": []
          },
          "execution_count": 111
        }
      ]
    },
    {
      "cell_type": "code",
      "metadata": {
        "colab": {
          "base_uri": "https://localhost:8080/"
        },
        "id": "05uM6_az4zoq",
        "outputId": "019cf862-a3f0-491f-a2c8-d056df63586d"
      },
      "source": [
        "#checking the columns in the dataset\n",
        "\n",
        "results.dtypes"
      ],
      "execution_count": 112,
      "outputs": [
        {
          "output_type": "execute_result",
          "data": {
            "text/plain": [
              "date          object\n",
              "home_team     object\n",
              "away_team     object\n",
              "home_score     int64\n",
              "away_score     int64\n",
              "tournament    object\n",
              "city          object\n",
              "country       object\n",
              "neutral         bool\n",
              "dtype: object"
            ]
          },
          "metadata": {
            "tags": []
          },
          "execution_count": 112
        }
      ]
    },
    {
      "cell_type": "code",
      "metadata": {
        "colab": {
          "base_uri": "https://localhost:8080/"
        },
        "id": "fNLsRjio454g",
        "outputId": "01b70f25-7651-46b7-bc66-ef60dfb4494f"
      },
      "source": [
        "#checking if the columns has the appropriate data types\n",
        "\n",
        "results.dtypes\n"
      ],
      "execution_count": 113,
      "outputs": [
        {
          "output_type": "execute_result",
          "data": {
            "text/plain": [
              "date          object\n",
              "home_team     object\n",
              "away_team     object\n",
              "home_score     int64\n",
              "away_score     int64\n",
              "tournament    object\n",
              "city          object\n",
              "country       object\n",
              "neutral         bool\n",
              "dtype: object"
            ]
          },
          "metadata": {
            "tags": []
          },
          "execution_count": 113
        }
      ]
    },
    {
      "cell_type": "code",
      "metadata": {
        "colab": {
          "base_uri": "https://localhost:8080/"
        },
        "id": "bzVyJDzH5D9u",
        "outputId": "88dbb7df-71b3-41c3-a5c3-bb74769adbde"
      },
      "source": [
        "#checking the dataset information\n",
        "results.info()"
      ],
      "execution_count": 114,
      "outputs": [
        {
          "output_type": "stream",
          "text": [
            "<class 'pandas.core.frame.DataFrame'>\n",
            "RangeIndex: 40839 entries, 0 to 40838\n",
            "Data columns (total 9 columns):\n",
            " #   Column      Non-Null Count  Dtype \n",
            "---  ------      --------------  ----- \n",
            " 0   date        40839 non-null  object\n",
            " 1   home_team   40839 non-null  object\n",
            " 2   away_team   40839 non-null  object\n",
            " 3   home_score  40839 non-null  int64 \n",
            " 4   away_score  40839 non-null  int64 \n",
            " 5   tournament  40839 non-null  object\n",
            " 6   city        40839 non-null  object\n",
            " 7   country     40839 non-null  object\n",
            " 8   neutral     40839 non-null  bool  \n",
            "dtypes: bool(1), int64(2), object(6)\n",
            "memory usage: 2.5+ MB\n"
          ],
          "name": "stdout"
        }
      ]
    },
    {
      "cell_type": "code",
      "metadata": {
        "colab": {
          "base_uri": "https://localhost:8080/",
          "height": 300
        },
        "id": "9dCsZM2D5MBC",
        "outputId": "ada5e2a9-fa93-4129-a492-5659fb8bed63"
      },
      "source": [
        "#checking the statistic summaries of the dataset\n",
        "results.describe()"
      ],
      "execution_count": 115,
      "outputs": [
        {
          "output_type": "execute_result",
          "data": {
            "text/html": [
              "<div>\n",
              "<style scoped>\n",
              "    .dataframe tbody tr th:only-of-type {\n",
              "        vertical-align: middle;\n",
              "    }\n",
              "\n",
              "    .dataframe tbody tr th {\n",
              "        vertical-align: top;\n",
              "    }\n",
              "\n",
              "    .dataframe thead th {\n",
              "        text-align: right;\n",
              "    }\n",
              "</style>\n",
              "<table border=\"1\" class=\"dataframe\">\n",
              "  <thead>\n",
              "    <tr style=\"text-align: right;\">\n",
              "      <th></th>\n",
              "      <th>home_score</th>\n",
              "      <th>away_score</th>\n",
              "    </tr>\n",
              "  </thead>\n",
              "  <tbody>\n",
              "    <tr>\n",
              "      <th>count</th>\n",
              "      <td>40839.000000</td>\n",
              "      <td>40839.000000</td>\n",
              "    </tr>\n",
              "    <tr>\n",
              "      <th>mean</th>\n",
              "      <td>1.745709</td>\n",
              "      <td>1.188105</td>\n",
              "    </tr>\n",
              "    <tr>\n",
              "      <th>std</th>\n",
              "      <td>1.749145</td>\n",
              "      <td>1.405120</td>\n",
              "    </tr>\n",
              "    <tr>\n",
              "      <th>min</th>\n",
              "      <td>0.000000</td>\n",
              "      <td>0.000000</td>\n",
              "    </tr>\n",
              "    <tr>\n",
              "      <th>25%</th>\n",
              "      <td>1.000000</td>\n",
              "      <td>0.000000</td>\n",
              "    </tr>\n",
              "    <tr>\n",
              "      <th>50%</th>\n",
              "      <td>1.000000</td>\n",
              "      <td>1.000000</td>\n",
              "    </tr>\n",
              "    <tr>\n",
              "      <th>75%</th>\n",
              "      <td>2.000000</td>\n",
              "      <td>2.000000</td>\n",
              "    </tr>\n",
              "    <tr>\n",
              "      <th>max</th>\n",
              "      <td>31.000000</td>\n",
              "      <td>21.000000</td>\n",
              "    </tr>\n",
              "  </tbody>\n",
              "</table>\n",
              "</div>"
            ],
            "text/plain": [
              "         home_score    away_score\n",
              "count  40839.000000  40839.000000\n",
              "mean       1.745709      1.188105\n",
              "std        1.749145      1.405120\n",
              "min        0.000000      0.000000\n",
              "25%        1.000000      0.000000\n",
              "50%        1.000000      1.000000\n",
              "75%        2.000000      2.000000\n",
              "max       31.000000     21.000000"
            ]
          },
          "metadata": {
            "tags": []
          },
          "execution_count": 115
        }
      ]
    },
    {
      "cell_type": "markdown",
      "metadata": {
        "id": "Pe6eUWfB7kV1"
      },
      "source": [
        "# **4.Data Cleaning**"
      ]
    },
    {
      "cell_type": "code",
      "metadata": {
        "colab": {
          "base_uri": "https://localhost:8080/"
        },
        "id": "yI0woIX4HaMj",
        "outputId": "30ea3a73-7264-44cc-f832-c9bdc4c936f7"
      },
      "source": [
        "#Checking for missing values in the rank dataset\n",
        "rank.isnull().sum()\n",
        "\n",
        "#From the output, we have no missing values"
      ],
      "execution_count": 116,
      "outputs": [
        {
          "output_type": "execute_result",
          "data": {
            "text/plain": [
              "rank                       0\n",
              "country_full               0\n",
              "country_abrv               0\n",
              "total_points               0\n",
              "previous_points            0\n",
              "rank_change                0\n",
              "cur_year_avg               0\n",
              "cur_year_avg_weighted      0\n",
              "last_year_avg              0\n",
              "last_year_avg_weighted     0\n",
              "two_year_ago_avg           0\n",
              "two_year_ago_weighted      0\n",
              "three_year_ago_avg         0\n",
              "three_year_ago_weighted    0\n",
              "confederation              0\n",
              "rank_date                  0\n",
              "dtype: int64"
            ]
          },
          "metadata": {
            "tags": []
          },
          "execution_count": 116
        }
      ]
    },
    {
      "cell_type": "code",
      "metadata": {
        "colab": {
          "base_uri": "https://localhost:8080/"
        },
        "id": "9lCb5WgTHdaO",
        "outputId": "b12f3bc5-bd8a-498a-e9a8-36e0e31f3b89"
      },
      "source": [
        "#checking for missing values in results dataset\n",
        "\n",
        "results.isnull().sum()\n",
        "\n",
        "#we have no missing values in the dataset"
      ],
      "execution_count": 117,
      "outputs": [
        {
          "output_type": "execute_result",
          "data": {
            "text/plain": [
              "date          0\n",
              "home_team     0\n",
              "away_team     0\n",
              "home_score    0\n",
              "away_score    0\n",
              "tournament    0\n",
              "city          0\n",
              "country       0\n",
              "neutral       0\n",
              "dtype: int64"
            ]
          },
          "metadata": {
            "tags": []
          },
          "execution_count": 117
        }
      ]
    },
    {
      "cell_type": "code",
      "metadata": {
        "colab": {
          "base_uri": "https://localhost:8080/"
        },
        "id": "oiVNRiakHxPQ",
        "outputId": "68f6e746-9499-45d2-baa6-acad4d417a80"
      },
      "source": [
        "#Checking for duplicates in the rank dataset\n",
        "\n",
        "rank.duplicated().sum()"
      ],
      "execution_count": 118,
      "outputs": [
        {
          "output_type": "execute_result",
          "data": {
            "text/plain": [
              "37"
            ]
          },
          "metadata": {
            "tags": []
          },
          "execution_count": 118
        }
      ]
    },
    {
      "cell_type": "code",
      "metadata": {
        "colab": {
          "base_uri": "https://localhost:8080/",
          "height": 1000
        },
        "id": "vB1Xd51fIMkX",
        "outputId": "1ffea396-30d6-4140-d5a2-ebbdfdaac603"
      },
      "source": [
        "#peviewing the duplicated values\n",
        "rank[rank.duplicated()]"
      ],
      "execution_count": 119,
      "outputs": [
        {
          "output_type": "execute_result",
          "data": {
            "text/html": [
              "<div>\n",
              "<style scoped>\n",
              "    .dataframe tbody tr th:only-of-type {\n",
              "        vertical-align: middle;\n",
              "    }\n",
              "\n",
              "    .dataframe tbody tr th {\n",
              "        vertical-align: top;\n",
              "    }\n",
              "\n",
              "    .dataframe thead th {\n",
              "        text-align: right;\n",
              "    }\n",
              "</style>\n",
              "<table border=\"1\" class=\"dataframe\">\n",
              "  <thead>\n",
              "    <tr style=\"text-align: right;\">\n",
              "      <th></th>\n",
              "      <th>rank</th>\n",
              "      <th>country_full</th>\n",
              "      <th>country_abrv</th>\n",
              "      <th>total_points</th>\n",
              "      <th>previous_points</th>\n",
              "      <th>rank_change</th>\n",
              "      <th>cur_year_avg</th>\n",
              "      <th>cur_year_avg_weighted</th>\n",
              "      <th>last_year_avg</th>\n",
              "      <th>last_year_avg_weighted</th>\n",
              "      <th>two_year_ago_avg</th>\n",
              "      <th>two_year_ago_weighted</th>\n",
              "      <th>three_year_ago_avg</th>\n",
              "      <th>three_year_ago_weighted</th>\n",
              "      <th>confederation</th>\n",
              "      <th>rank_date</th>\n",
              "    </tr>\n",
              "  </thead>\n",
              "  <tbody>\n",
              "    <tr>\n",
              "      <th>41320</th>\n",
              "      <td>113</td>\n",
              "      <td>Sudan</td>\n",
              "      <td>SDN</td>\n",
              "      <td>297.13</td>\n",
              "      <td>304</td>\n",
              "      <td>-1</td>\n",
              "      <td>126.55</td>\n",
              "      <td>126.55</td>\n",
              "      <td>219.72</td>\n",
              "      <td>109.86</td>\n",
              "      <td>67.36</td>\n",
              "      <td>20.21</td>\n",
              "      <td>202.53</td>\n",
              "      <td>40.51</td>\n",
              "      <td>CAF</td>\n",
              "      <td>2011-12-21</td>\n",
              "    </tr>\n",
              "    <tr>\n",
              "      <th>41536</th>\n",
              "      <td>120</td>\n",
              "      <td>Sudan</td>\n",
              "      <td>SDN</td>\n",
              "      <td>264.81</td>\n",
              "      <td>297</td>\n",
              "      <td>-7</td>\n",
              "      <td>129.14</td>\n",
              "      <td>129.14</td>\n",
              "      <td>163.12</td>\n",
              "      <td>81.56</td>\n",
              "      <td>40.91</td>\n",
              "      <td>12.27</td>\n",
              "      <td>209.21</td>\n",
              "      <td>41.84</td>\n",
              "      <td>CAF</td>\n",
              "      <td>2012-01-18</td>\n",
              "    </tr>\n",
              "    <tr>\n",
              "      <th>41736</th>\n",
              "      <td>111</td>\n",
              "      <td>Sudan</td>\n",
              "      <td>SDN</td>\n",
              "      <td>301.67</td>\n",
              "      <td>265</td>\n",
              "      <td>9</td>\n",
              "      <td>156.34</td>\n",
              "      <td>156.34</td>\n",
              "      <td>163.12</td>\n",
              "      <td>81.56</td>\n",
              "      <td>40.91</td>\n",
              "      <td>12.27</td>\n",
              "      <td>257.48</td>\n",
              "      <td>51.50</td>\n",
              "      <td>CAF</td>\n",
              "      <td>2012-02-15</td>\n",
              "    </tr>\n",
              "    <tr>\n",
              "      <th>41944</th>\n",
              "      <td>110</td>\n",
              "      <td>Sudan</td>\n",
              "      <td>SDN</td>\n",
              "      <td>299.75</td>\n",
              "      <td>302</td>\n",
              "      <td>1</td>\n",
              "      <td>156.34</td>\n",
              "      <td>156.34</td>\n",
              "      <td>163.12</td>\n",
              "      <td>81.56</td>\n",
              "      <td>46.75</td>\n",
              "      <td>14.03</td>\n",
              "      <td>239.09</td>\n",
              "      <td>47.82</td>\n",
              "      <td>CAF</td>\n",
              "      <td>2012-03-07</td>\n",
              "    </tr>\n",
              "    <tr>\n",
              "      <th>42157</th>\n",
              "      <td>113</td>\n",
              "      <td>Sudan</td>\n",
              "      <td>SDN</td>\n",
              "      <td>292.03</td>\n",
              "      <td>300</td>\n",
              "      <td>-3</td>\n",
              "      <td>149.12</td>\n",
              "      <td>149.12</td>\n",
              "      <td>180.83</td>\n",
              "      <td>90.42</td>\n",
              "      <td>0.00</td>\n",
              "      <td>0.00</td>\n",
              "      <td>262.47</td>\n",
              "      <td>52.49</td>\n",
              "      <td>CAF</td>\n",
              "      <td>2012-04-11</td>\n",
              "    </tr>\n",
              "    <tr>\n",
              "      <th>42366</th>\n",
              "      <td>113</td>\n",
              "      <td>Sudan</td>\n",
              "      <td>SDN</td>\n",
              "      <td>292.03</td>\n",
              "      <td>292</td>\n",
              "      <td>0</td>\n",
              "      <td>149.12</td>\n",
              "      <td>149.12</td>\n",
              "      <td>180.83</td>\n",
              "      <td>90.42</td>\n",
              "      <td>0.00</td>\n",
              "      <td>0.00</td>\n",
              "      <td>262.47</td>\n",
              "      <td>52.49</td>\n",
              "      <td>CAF</td>\n",
              "      <td>2012-05-09</td>\n",
              "    </tr>\n",
              "    <tr>\n",
              "      <th>42562</th>\n",
              "      <td>101</td>\n",
              "      <td>Sudan</td>\n",
              "      <td>SDN</td>\n",
              "      <td>338.25</td>\n",
              "      <td>292</td>\n",
              "      <td>12</td>\n",
              "      <td>179.70</td>\n",
              "      <td>179.70</td>\n",
              "      <td>209.32</td>\n",
              "      <td>104.66</td>\n",
              "      <td>7.08</td>\n",
              "      <td>2.12</td>\n",
              "      <td>258.83</td>\n",
              "      <td>51.77</td>\n",
              "      <td>CAF</td>\n",
              "      <td>2012-06-06</td>\n",
              "    </tr>\n",
              "    <tr>\n",
              "      <th>42775</th>\n",
              "      <td>105</td>\n",
              "      <td>Sudan</td>\n",
              "      <td>SDN</td>\n",
              "      <td>329.36</td>\n",
              "      <td>338</td>\n",
              "      <td>-4</td>\n",
              "      <td>171.57</td>\n",
              "      <td>171.57</td>\n",
              "      <td>229.19</td>\n",
              "      <td>114.60</td>\n",
              "      <td>8.50</td>\n",
              "      <td>2.55</td>\n",
              "      <td>203.22</td>\n",
              "      <td>40.64</td>\n",
              "      <td>CAF</td>\n",
              "      <td>2012-07-04</td>\n",
              "    </tr>\n",
              "    <tr>\n",
              "      <th>42983</th>\n",
              "      <td>104</td>\n",
              "      <td>Sudan</td>\n",
              "      <td>SDN</td>\n",
              "      <td>329.36</td>\n",
              "      <td>329</td>\n",
              "      <td>1</td>\n",
              "      <td>171.57</td>\n",
              "      <td>171.57</td>\n",
              "      <td>229.19</td>\n",
              "      <td>114.60</td>\n",
              "      <td>8.50</td>\n",
              "      <td>2.55</td>\n",
              "      <td>203.22</td>\n",
              "      <td>40.64</td>\n",
              "      <td>CAF</td>\n",
              "      <td>2012-08-08</td>\n",
              "    </tr>\n",
              "    <tr>\n",
              "      <th>43193</th>\n",
              "      <td>103</td>\n",
              "      <td>Sudan</td>\n",
              "      <td>SDN</td>\n",
              "      <td>331.79</td>\n",
              "      <td>329</td>\n",
              "      <td>1</td>\n",
              "      <td>169.05</td>\n",
              "      <td>169.05</td>\n",
              "      <td>187.77</td>\n",
              "      <td>93.88</td>\n",
              "      <td>108.13</td>\n",
              "      <td>32.44</td>\n",
              "      <td>182.11</td>\n",
              "      <td>36.42</td>\n",
              "      <td>CAF</td>\n",
              "      <td>2012-09-05</td>\n",
              "    </tr>\n",
              "    <tr>\n",
              "      <th>43399</th>\n",
              "      <td>100</td>\n",
              "      <td>Sudan</td>\n",
              "      <td>SDN</td>\n",
              "      <td>350.66</td>\n",
              "      <td>332</td>\n",
              "      <td>3</td>\n",
              "      <td>186.58</td>\n",
              "      <td>186.58</td>\n",
              "      <td>187.77</td>\n",
              "      <td>93.88</td>\n",
              "      <td>129.76</td>\n",
              "      <td>38.93</td>\n",
              "      <td>156.36</td>\n",
              "      <td>31.27</td>\n",
              "      <td>CAF</td>\n",
              "      <td>2012-10-03</td>\n",
              "    </tr>\n",
              "    <tr>\n",
              "      <th>43611</th>\n",
              "      <td>102</td>\n",
              "      <td>Sudan</td>\n",
              "      <td>SDN</td>\n",
              "      <td>333.08</td>\n",
              "      <td>351</td>\n",
              "      <td>-2</td>\n",
              "      <td>178.47</td>\n",
              "      <td>178.47</td>\n",
              "      <td>155.52</td>\n",
              "      <td>77.76</td>\n",
              "      <td>207.16</td>\n",
              "      <td>62.15</td>\n",
              "      <td>73.49</td>\n",
              "      <td>14.70</td>\n",
              "      <td>CAF</td>\n",
              "      <td>2012-11-07</td>\n",
              "    </tr>\n",
              "    <tr>\n",
              "      <th>43821</th>\n",
              "      <td>101</td>\n",
              "      <td>Sudan</td>\n",
              "      <td>SDN</td>\n",
              "      <td>348.90</td>\n",
              "      <td>333</td>\n",
              "      <td>1</td>\n",
              "      <td>206.25</td>\n",
              "      <td>206.25</td>\n",
              "      <td>126.55</td>\n",
              "      <td>63.27</td>\n",
              "      <td>219.72</td>\n",
              "      <td>65.91</td>\n",
              "      <td>67.36</td>\n",
              "      <td>13.47</td>\n",
              "      <td>CAF</td>\n",
              "      <td>2012-12-19</td>\n",
              "    </tr>\n",
              "    <tr>\n",
              "      <th>44029</th>\n",
              "      <td>100</td>\n",
              "      <td>Sudan</td>\n",
              "      <td>SDN</td>\n",
              "      <td>361.33</td>\n",
              "      <td>349</td>\n",
              "      <td>1</td>\n",
              "      <td>243.75</td>\n",
              "      <td>243.75</td>\n",
              "      <td>120.92</td>\n",
              "      <td>60.46</td>\n",
              "      <td>163.12</td>\n",
              "      <td>48.94</td>\n",
              "      <td>40.91</td>\n",
              "      <td>8.18</td>\n",
              "      <td>CAF</td>\n",
              "      <td>2013-01-17</td>\n",
              "    </tr>\n",
              "    <tr>\n",
              "      <th>44243</th>\n",
              "      <td>104</td>\n",
              "      <td>Sudan</td>\n",
              "      <td>SDN</td>\n",
              "      <td>343.15</td>\n",
              "      <td>361</td>\n",
              "      <td>-4</td>\n",
              "      <td>207.86</td>\n",
              "      <td>207.86</td>\n",
              "      <td>156.34</td>\n",
              "      <td>78.17</td>\n",
              "      <td>163.12</td>\n",
              "      <td>48.94</td>\n",
              "      <td>40.91</td>\n",
              "      <td>8.18</td>\n",
              "      <td>CAF</td>\n",
              "      <td>2013-02-14</td>\n",
              "    </tr>\n",
              "    <tr>\n",
              "      <th>44476</th>\n",
              "      <td>127</td>\n",
              "      <td>Sudan</td>\n",
              "      <td>SDN</td>\n",
              "      <td>241.12</td>\n",
              "      <td>343</td>\n",
              "      <td>-23</td>\n",
              "      <td>104.66</td>\n",
              "      <td>104.66</td>\n",
              "      <td>156.34</td>\n",
              "      <td>78.17</td>\n",
              "      <td>163.12</td>\n",
              "      <td>48.94</td>\n",
              "      <td>46.75</td>\n",
              "      <td>9.35</td>\n",
              "      <td>CAF</td>\n",
              "      <td>2013-03-14</td>\n",
              "    </tr>\n",
              "    <tr>\n",
              "      <th>44692</th>\n",
              "      <td>133</td>\n",
              "      <td>Sudan</td>\n",
              "      <td>SDN</td>\n",
              "      <td>223.96</td>\n",
              "      <td>241</td>\n",
              "      <td>-6</td>\n",
              "      <td>95.15</td>\n",
              "      <td>95.15</td>\n",
              "      <td>149.12</td>\n",
              "      <td>74.56</td>\n",
              "      <td>180.83</td>\n",
              "      <td>54.25</td>\n",
              "      <td>0.00</td>\n",
              "      <td>0.00</td>\n",
              "      <td>CAF</td>\n",
              "      <td>2013-04-11</td>\n",
              "    </tr>\n",
              "    <tr>\n",
              "      <th>44903</th>\n",
              "      <td>134</td>\n",
              "      <td>Sudan</td>\n",
              "      <td>SDN</td>\n",
              "      <td>223.96</td>\n",
              "      <td>224</td>\n",
              "      <td>-1</td>\n",
              "      <td>95.15</td>\n",
              "      <td>95.15</td>\n",
              "      <td>149.12</td>\n",
              "      <td>74.56</td>\n",
              "      <td>180.83</td>\n",
              "      <td>54.25</td>\n",
              "      <td>0.00</td>\n",
              "      <td>0.00</td>\n",
              "      <td>CAF</td>\n",
              "      <td>2013-05-09</td>\n",
              "    </tr>\n",
              "    <tr>\n",
              "      <th>45114</th>\n",
              "      <td>135</td>\n",
              "      <td>Sudan</td>\n",
              "      <td>SDN</td>\n",
              "      <td>223.86</td>\n",
              "      <td>224</td>\n",
              "      <td>-1</td>\n",
              "      <td>93.24</td>\n",
              "      <td>93.24</td>\n",
              "      <td>132.79</td>\n",
              "      <td>66.40</td>\n",
              "      <td>209.32</td>\n",
              "      <td>62.80</td>\n",
              "      <td>7.08</td>\n",
              "      <td>1.42</td>\n",
              "      <td>CAF</td>\n",
              "      <td>2013-06-06</td>\n",
              "    </tr>\n",
              "    <tr>\n",
              "      <th>45324</th>\n",
              "      <td>134</td>\n",
              "      <td>Sudan</td>\n",
              "      <td>SDN</td>\n",
              "      <td>232.99</td>\n",
              "      <td>224</td>\n",
              "      <td>1</td>\n",
              "      <td>98.24</td>\n",
              "      <td>98.24</td>\n",
              "      <td>128.57</td>\n",
              "      <td>64.29</td>\n",
              "      <td>229.19</td>\n",
              "      <td>68.76</td>\n",
              "      <td>8.50</td>\n",
              "      <td>1.70</td>\n",
              "      <td>CAF</td>\n",
              "      <td>2013-07-04</td>\n",
              "    </tr>\n",
              "    <tr>\n",
              "      <th>45534</th>\n",
              "      <td>135</td>\n",
              "      <td>Sudan</td>\n",
              "      <td>SDN</td>\n",
              "      <td>228.45</td>\n",
              "      <td>233</td>\n",
              "      <td>-1</td>\n",
              "      <td>93.71</td>\n",
              "      <td>93.71</td>\n",
              "      <td>128.57</td>\n",
              "      <td>64.29</td>\n",
              "      <td>229.19</td>\n",
              "      <td>68.76</td>\n",
              "      <td>8.50</td>\n",
              "      <td>1.70</td>\n",
              "      <td>CAF</td>\n",
              "      <td>2013-08-08</td>\n",
              "    </tr>\n",
              "    <tr>\n",
              "      <th>45749</th>\n",
              "      <td>140</td>\n",
              "      <td>Sudan</td>\n",
              "      <td>SDN</td>\n",
              "      <td>204.37</td>\n",
              "      <td>228</td>\n",
              "      <td>-5</td>\n",
              "      <td>55.29</td>\n",
              "      <td>55.29</td>\n",
              "      <td>133.60</td>\n",
              "      <td>66.80</td>\n",
              "      <td>187.77</td>\n",
              "      <td>56.33</td>\n",
              "      <td>129.76</td>\n",
              "      <td>25.95</td>\n",
              "      <td>CAF</td>\n",
              "      <td>2013-09-12</td>\n",
              "    </tr>\n",
              "    <tr>\n",
              "      <th>45955</th>\n",
              "      <td>136</td>\n",
              "      <td>Sudan</td>\n",
              "      <td>SDN</td>\n",
              "      <td>215.20</td>\n",
              "      <td>204</td>\n",
              "      <td>4</td>\n",
              "      <td>60.32</td>\n",
              "      <td>60.32</td>\n",
              "      <td>133.60</td>\n",
              "      <td>66.80</td>\n",
              "      <td>155.52</td>\n",
              "      <td>46.66</td>\n",
              "      <td>207.16</td>\n",
              "      <td>41.43</td>\n",
              "      <td>CAF</td>\n",
              "      <td>2013-10-17</td>\n",
              "    </tr>\n",
              "    <tr>\n",
              "      <th>46160</th>\n",
              "      <td>130</td>\n",
              "      <td>Sudan</td>\n",
              "      <td>SDN</td>\n",
              "      <td>217.69</td>\n",
              "      <td>215</td>\n",
              "      <td>6</td>\n",
              "      <td>66.35</td>\n",
              "      <td>66.35</td>\n",
              "      <td>139.16</td>\n",
              "      <td>69.58</td>\n",
              "      <td>134.45</td>\n",
              "      <td>40.33</td>\n",
              "      <td>207.16</td>\n",
              "      <td>41.43</td>\n",
              "      <td>CAF</td>\n",
              "      <td>2013-11-28</td>\n",
              "    </tr>\n",
              "    <tr>\n",
              "      <th>46358</th>\n",
              "      <td>119</td>\n",
              "      <td>Sudan</td>\n",
              "      <td>SDN</td>\n",
              "      <td>258.83</td>\n",
              "      <td>218</td>\n",
              "      <td>11</td>\n",
              "      <td>104.15</td>\n",
              "      <td>104.15</td>\n",
              "      <td>145.54</td>\n",
              "      <td>72.77</td>\n",
              "      <td>126.55</td>\n",
              "      <td>37.96</td>\n",
              "      <td>219.72</td>\n",
              "      <td>43.94</td>\n",
              "      <td>CAF</td>\n",
              "      <td>2013-12-19</td>\n",
              "    </tr>\n",
              "    <tr>\n",
              "      <th>46568</th>\n",
              "      <td>119</td>\n",
              "      <td>Sudan</td>\n",
              "      <td>SDN</td>\n",
              "      <td>258.07</td>\n",
              "      <td>259</td>\n",
              "      <td>0</td>\n",
              "      <td>104.15</td>\n",
              "      <td>104.15</td>\n",
              "      <td>170.03</td>\n",
              "      <td>85.02</td>\n",
              "      <td>120.92</td>\n",
              "      <td>36.27</td>\n",
              "      <td>163.12</td>\n",
              "      <td>32.62</td>\n",
              "      <td>CAF</td>\n",
              "      <td>2014-01-16</td>\n",
              "    </tr>\n",
              "    <tr>\n",
              "      <th>46782</th>\n",
              "      <td>123</td>\n",
              "      <td>Sudan</td>\n",
              "      <td>SDN</td>\n",
              "      <td>236.01</td>\n",
              "      <td>258</td>\n",
              "      <td>-4</td>\n",
              "      <td>104.15</td>\n",
              "      <td>104.15</td>\n",
              "      <td>104.66</td>\n",
              "      <td>52.33</td>\n",
              "      <td>156.34</td>\n",
              "      <td>46.90</td>\n",
              "      <td>163.12</td>\n",
              "      <td>32.62</td>\n",
              "      <td>CAF</td>\n",
              "      <td>2014-02-13</td>\n",
              "    </tr>\n",
              "    <tr>\n",
              "      <th>46991</th>\n",
              "      <td>122</td>\n",
              "      <td>Sudan</td>\n",
              "      <td>SDN</td>\n",
              "      <td>236.01</td>\n",
              "      <td>236</td>\n",
              "      <td>1</td>\n",
              "      <td>104.15</td>\n",
              "      <td>104.15</td>\n",
              "      <td>104.66</td>\n",
              "      <td>52.33</td>\n",
              "      <td>156.34</td>\n",
              "      <td>46.90</td>\n",
              "      <td>163.12</td>\n",
              "      <td>32.62</td>\n",
              "      <td>CAF</td>\n",
              "      <td>2014-03-13</td>\n",
              "    </tr>\n",
              "    <tr>\n",
              "      <th>47196</th>\n",
              "      <td>117</td>\n",
              "      <td>Sudan</td>\n",
              "      <td>SDN</td>\n",
              "      <td>240.64</td>\n",
              "      <td>236</td>\n",
              "      <td>5</td>\n",
              "      <td>112.16</td>\n",
              "      <td>112.16</td>\n",
              "      <td>95.15</td>\n",
              "      <td>47.57</td>\n",
              "      <td>149.12</td>\n",
              "      <td>44.73</td>\n",
              "      <td>180.83</td>\n",
              "      <td>36.17</td>\n",
              "      <td>CAF</td>\n",
              "      <td>2014-04-10</td>\n",
              "    </tr>\n",
              "    <tr>\n",
              "      <th>47406</th>\n",
              "      <td>117</td>\n",
              "      <td>Sudan</td>\n",
              "      <td>SDN</td>\n",
              "      <td>240.64</td>\n",
              "      <td>241</td>\n",
              "      <td>0</td>\n",
              "      <td>112.16</td>\n",
              "      <td>112.16</td>\n",
              "      <td>95.15</td>\n",
              "      <td>47.57</td>\n",
              "      <td>149.12</td>\n",
              "      <td>44.73</td>\n",
              "      <td>180.83</td>\n",
              "      <td>36.17</td>\n",
              "      <td>CAF</td>\n",
              "      <td>2014-05-08</td>\n",
              "    </tr>\n",
              "    <tr>\n",
              "      <th>47619</th>\n",
              "      <td>120</td>\n",
              "      <td>Sudan</td>\n",
              "      <td>SDN</td>\n",
              "      <td>254.31</td>\n",
              "      <td>241</td>\n",
              "      <td>-3</td>\n",
              "      <td>125.99</td>\n",
              "      <td>125.99</td>\n",
              "      <td>93.24</td>\n",
              "      <td>46.62</td>\n",
              "      <td>132.79</td>\n",
              "      <td>39.84</td>\n",
              "      <td>209.32</td>\n",
              "      <td>41.86</td>\n",
              "      <td>CAF</td>\n",
              "      <td>2014-06-05</td>\n",
              "    </tr>\n",
              "    <tr>\n",
              "      <th>47824</th>\n",
              "      <td>115</td>\n",
              "      <td>Sudan</td>\n",
              "      <td>SDN</td>\n",
              "      <td>256.36</td>\n",
              "      <td>254</td>\n",
              "      <td>5</td>\n",
              "      <td>124.06</td>\n",
              "      <td>124.06</td>\n",
              "      <td>95.78</td>\n",
              "      <td>47.89</td>\n",
              "      <td>128.57</td>\n",
              "      <td>38.57</td>\n",
              "      <td>229.19</td>\n",
              "      <td>45.84</td>\n",
              "      <td>CAF</td>\n",
              "      <td>2014-07-17</td>\n",
              "    </tr>\n",
              "    <tr>\n",
              "      <th>48035</th>\n",
              "      <td>115</td>\n",
              "      <td>Sudan</td>\n",
              "      <td>SDN</td>\n",
              "      <td>263.21</td>\n",
              "      <td>256</td>\n",
              "      <td>0</td>\n",
              "      <td>131.95</td>\n",
              "      <td>131.95</td>\n",
              "      <td>93.71</td>\n",
              "      <td>46.85</td>\n",
              "      <td>128.57</td>\n",
              "      <td>38.57</td>\n",
              "      <td>229.19</td>\n",
              "      <td>45.84</td>\n",
              "      <td>CAF</td>\n",
              "      <td>2014-08-14</td>\n",
              "    </tr>\n",
              "    <tr>\n",
              "      <th>48262</th>\n",
              "      <td>133</td>\n",
              "      <td>Sudan</td>\n",
              "      <td>SDN</td>\n",
              "      <td>220.73</td>\n",
              "      <td>263</td>\n",
              "      <td>-18</td>\n",
              "      <td>115.46</td>\n",
              "      <td>115.46</td>\n",
              "      <td>55.29</td>\n",
              "      <td>27.65</td>\n",
              "      <td>133.60</td>\n",
              "      <td>40.08</td>\n",
              "      <td>187.77</td>\n",
              "      <td>37.55</td>\n",
              "      <td>CAF</td>\n",
              "      <td>2014-09-18</td>\n",
              "    </tr>\n",
              "    <tr>\n",
              "      <th>48446</th>\n",
              "      <td>107</td>\n",
              "      <td>Sudan</td>\n",
              "      <td>SDN</td>\n",
              "      <td>297.62</td>\n",
              "      <td>221</td>\n",
              "      <td>26</td>\n",
              "      <td>196.28</td>\n",
              "      <td>196.28</td>\n",
              "      <td>60.32</td>\n",
              "      <td>30.16</td>\n",
              "      <td>133.60</td>\n",
              "      <td>40.08</td>\n",
              "      <td>155.52</td>\n",
              "      <td>31.10</td>\n",
              "      <td>CAF</td>\n",
              "      <td>2014-10-23</td>\n",
              "    </tr>\n",
              "    <tr>\n",
              "      <th>48664</th>\n",
              "      <td>115</td>\n",
              "      <td>Sudan</td>\n",
              "      <td>SDN</td>\n",
              "      <td>265.36</td>\n",
              "      <td>298</td>\n",
              "      <td>-8</td>\n",
              "      <td>163.56</td>\n",
              "      <td>163.56</td>\n",
              "      <td>66.35</td>\n",
              "      <td>33.17</td>\n",
              "      <td>135.29</td>\n",
              "      <td>40.59</td>\n",
              "      <td>140.18</td>\n",
              "      <td>28.04</td>\n",
              "      <td>CAF</td>\n",
              "      <td>2014-11-27</td>\n",
              "    </tr>\n",
              "    <tr>\n",
              "      <th>48869</th>\n",
              "      <td>110</td>\n",
              "      <td>Sudan</td>\n",
              "      <td>SDN</td>\n",
              "      <td>294.24</td>\n",
              "      <td>265</td>\n",
              "      <td>5</td>\n",
              "      <td>173.19</td>\n",
              "      <td>173.19</td>\n",
              "      <td>104.15</td>\n",
              "      <td>52.08</td>\n",
              "      <td>145.54</td>\n",
              "      <td>43.66</td>\n",
              "      <td>126.55</td>\n",
              "      <td>25.31</td>\n",
              "      <td>CAF</td>\n",
              "      <td>2014-12-18</td>\n",
              "    </tr>\n",
              "  </tbody>\n",
              "</table>\n",
              "</div>"
            ],
            "text/plain": [
              "       rank country_full  ... confederation   rank_date\n",
              "41320   113        Sudan  ...           CAF  2011-12-21\n",
              "41536   120        Sudan  ...           CAF  2012-01-18\n",
              "41736   111        Sudan  ...           CAF  2012-02-15\n",
              "41944   110        Sudan  ...           CAF  2012-03-07\n",
              "42157   113        Sudan  ...           CAF  2012-04-11\n",
              "42366   113        Sudan  ...           CAF  2012-05-09\n",
              "42562   101        Sudan  ...           CAF  2012-06-06\n",
              "42775   105        Sudan  ...           CAF  2012-07-04\n",
              "42983   104        Sudan  ...           CAF  2012-08-08\n",
              "43193   103        Sudan  ...           CAF  2012-09-05\n",
              "43399   100        Sudan  ...           CAF  2012-10-03\n",
              "43611   102        Sudan  ...           CAF  2012-11-07\n",
              "43821   101        Sudan  ...           CAF  2012-12-19\n",
              "44029   100        Sudan  ...           CAF  2013-01-17\n",
              "44243   104        Sudan  ...           CAF  2013-02-14\n",
              "44476   127        Sudan  ...           CAF  2013-03-14\n",
              "44692   133        Sudan  ...           CAF  2013-04-11\n",
              "44903   134        Sudan  ...           CAF  2013-05-09\n",
              "45114   135        Sudan  ...           CAF  2013-06-06\n",
              "45324   134        Sudan  ...           CAF  2013-07-04\n",
              "45534   135        Sudan  ...           CAF  2013-08-08\n",
              "45749   140        Sudan  ...           CAF  2013-09-12\n",
              "45955   136        Sudan  ...           CAF  2013-10-17\n",
              "46160   130        Sudan  ...           CAF  2013-11-28\n",
              "46358   119        Sudan  ...           CAF  2013-12-19\n",
              "46568   119        Sudan  ...           CAF  2014-01-16\n",
              "46782   123        Sudan  ...           CAF  2014-02-13\n",
              "46991   122        Sudan  ...           CAF  2014-03-13\n",
              "47196   117        Sudan  ...           CAF  2014-04-10\n",
              "47406   117        Sudan  ...           CAF  2014-05-08\n",
              "47619   120        Sudan  ...           CAF  2014-06-05\n",
              "47824   115        Sudan  ...           CAF  2014-07-17\n",
              "48035   115        Sudan  ...           CAF  2014-08-14\n",
              "48262   133        Sudan  ...           CAF  2014-09-18\n",
              "48446   107        Sudan  ...           CAF  2014-10-23\n",
              "48664   115        Sudan  ...           CAF  2014-11-27\n",
              "48869   110        Sudan  ...           CAF  2014-12-18\n",
              "\n",
              "[37 rows x 16 columns]"
            ]
          },
          "metadata": {
            "tags": []
          },
          "execution_count": 119
        }
      ]
    },
    {
      "cell_type": "code",
      "metadata": {
        "colab": {
          "base_uri": "https://localhost:8080/"
        },
        "id": "jk_TzraRIXQG",
        "outputId": "db7bb26f-302e-49bf-fb95-527bc35aa6c2"
      },
      "source": [
        "#Checking for duplicates in the results dataset\n",
        "results.duplicated().sum()\n",
        "\n",
        "#we have no duplicated in the dataset"
      ],
      "execution_count": 120,
      "outputs": [
        {
          "output_type": "execute_result",
          "data": {
            "text/plain": [
              "0"
            ]
          },
          "metadata": {
            "tags": []
          },
          "execution_count": 120
        }
      ]
    },
    {
      "cell_type": "code",
      "metadata": {
        "id": "JrMn3mGuJY5W"
      },
      "source": [
        "#changing the date in the rank dataset to datetime\n",
        "\n",
        "rank.rank_date = pd.to_datetime(rank.rank_date)\n",
        "results.date = pd.to_datetime(results.date)"
      ],
      "execution_count": 121,
      "outputs": []
    },
    {
      "cell_type": "code",
      "metadata": {
        "colab": {
          "base_uri": "https://localhost:8080/"
        },
        "id": "c8lROCcmK9AT",
        "outputId": "a831236b-d40c-4da7-aaf2-4a30b7e07757"
      },
      "source": [
        "#checking the unique values in the rank date column\n",
        "rank.rank_date.dt.year.unique()"
      ],
      "execution_count": 122,
      "outputs": [
        {
          "output_type": "execute_result",
          "data": {
            "text/plain": [
              "array([1993, 1994, 1995, 1996, 1997, 1998, 1999, 2000, 2001, 2002, 2003,\n",
              "       2004, 2005, 2006, 2007, 2008, 2009, 2010, 2011, 2012, 2013, 2014,\n",
              "       2015, 2016, 2017, 2018])"
            ]
          },
          "metadata": {
            "tags": []
          },
          "execution_count": 122
        }
      ]
    },
    {
      "cell_type": "code",
      "metadata": {
        "colab": {
          "base_uri": "https://localhost:8080/"
        },
        "id": "DIPkpySvLGId",
        "outputId": "5ae3b118-1845-4e9d-9ab7-1126e08dfc0f"
      },
      "source": [
        "#checking for unique values in theresults date column\n",
        "results.date.dt.year.unique()"
      ],
      "execution_count": 123,
      "outputs": [
        {
          "output_type": "execute_result",
          "data": {
            "text/plain": [
              "array([1872, 1873, 1874, 1875, 1876, 1877, 1878, 1879, 1880, 1881, 1882,\n",
              "       1883, 1884, 1885, 1886, 1887, 1888, 1889, 1890, 1891, 1892, 1893,\n",
              "       1894, 1895, 1896, 1897, 1898, 1899, 1900, 1901, 1902, 1903, 1904,\n",
              "       1905, 1906, 1907, 1908, 1909, 1910, 1911, 1912, 1913, 1914, 1915,\n",
              "       1916, 1917, 1918, 1919, 1920, 1921, 1922, 1923, 1924, 1925, 1926,\n",
              "       1927, 1928, 1929, 1930, 1931, 1932, 1933, 1934, 1935, 1936, 1937,\n",
              "       1938, 1939, 1940, 1941, 1942, 1943, 1944, 1945, 1946, 1947, 1948,\n",
              "       1949, 1950, 1951, 1952, 1953, 1954, 1955, 1956, 1957, 1958, 1959,\n",
              "       1960, 1961, 1962, 1963, 1964, 1965, 1966, 1967, 1968, 1969, 1970,\n",
              "       1971, 1972, 1973, 1974, 1975, 1976, 1977, 1978, 1979, 1980, 1981,\n",
              "       1982, 1983, 1984, 1985, 1986, 1987, 1988, 1989, 1990, 1991, 1992,\n",
              "       1993, 1994, 1995, 1996, 1997, 1998, 1999, 2000, 2001, 2002, 2003,\n",
              "       2004, 2005, 2006, 2007, 2008, 2009, 2010, 2011, 2012, 2013, 2014,\n",
              "       2015, 2016, 2017, 2018, 2019])"
            ]
          },
          "metadata": {
            "tags": []
          },
          "execution_count": 123
        }
      ]
    },
    {
      "cell_type": "code",
      "metadata": {
        "colab": {
          "base_uri": "https://localhost:8080/",
          "height": 226
        },
        "id": "mnIffXITLpMw",
        "outputId": "378ea3b1-918e-4afb-e9d3-973730965029"
      },
      "source": [
        "# Removing the day from the date time in the ranking dataset\n",
        "rank['rank_date'] = rank['rank_date'].dt.strftime('%Y-%m')\n",
        "rank.head()"
      ],
      "execution_count": 124,
      "outputs": [
        {
          "output_type": "execute_result",
          "data": {
            "text/html": [
              "<div>\n",
              "<style scoped>\n",
              "    .dataframe tbody tr th:only-of-type {\n",
              "        vertical-align: middle;\n",
              "    }\n",
              "\n",
              "    .dataframe tbody tr th {\n",
              "        vertical-align: top;\n",
              "    }\n",
              "\n",
              "    .dataframe thead th {\n",
              "        text-align: right;\n",
              "    }\n",
              "</style>\n",
              "<table border=\"1\" class=\"dataframe\">\n",
              "  <thead>\n",
              "    <tr style=\"text-align: right;\">\n",
              "      <th></th>\n",
              "      <th>rank</th>\n",
              "      <th>country_full</th>\n",
              "      <th>country_abrv</th>\n",
              "      <th>total_points</th>\n",
              "      <th>previous_points</th>\n",
              "      <th>rank_change</th>\n",
              "      <th>cur_year_avg</th>\n",
              "      <th>cur_year_avg_weighted</th>\n",
              "      <th>last_year_avg</th>\n",
              "      <th>last_year_avg_weighted</th>\n",
              "      <th>two_year_ago_avg</th>\n",
              "      <th>two_year_ago_weighted</th>\n",
              "      <th>three_year_ago_avg</th>\n",
              "      <th>three_year_ago_weighted</th>\n",
              "      <th>confederation</th>\n",
              "      <th>rank_date</th>\n",
              "    </tr>\n",
              "  </thead>\n",
              "  <tbody>\n",
              "    <tr>\n",
              "      <th>0</th>\n",
              "      <td>1</td>\n",
              "      <td>Germany</td>\n",
              "      <td>GER</td>\n",
              "      <td>0.0</td>\n",
              "      <td>57</td>\n",
              "      <td>0</td>\n",
              "      <td>0.0</td>\n",
              "      <td>0.0</td>\n",
              "      <td>0.0</td>\n",
              "      <td>0.0</td>\n",
              "      <td>0.0</td>\n",
              "      <td>0.0</td>\n",
              "      <td>0.0</td>\n",
              "      <td>0.0</td>\n",
              "      <td>UEFA</td>\n",
              "      <td>1993-08</td>\n",
              "    </tr>\n",
              "    <tr>\n",
              "      <th>1</th>\n",
              "      <td>2</td>\n",
              "      <td>Italy</td>\n",
              "      <td>ITA</td>\n",
              "      <td>0.0</td>\n",
              "      <td>57</td>\n",
              "      <td>0</td>\n",
              "      <td>0.0</td>\n",
              "      <td>0.0</td>\n",
              "      <td>0.0</td>\n",
              "      <td>0.0</td>\n",
              "      <td>0.0</td>\n",
              "      <td>0.0</td>\n",
              "      <td>0.0</td>\n",
              "      <td>0.0</td>\n",
              "      <td>UEFA</td>\n",
              "      <td>1993-08</td>\n",
              "    </tr>\n",
              "    <tr>\n",
              "      <th>2</th>\n",
              "      <td>3</td>\n",
              "      <td>Switzerland</td>\n",
              "      <td>SUI</td>\n",
              "      <td>0.0</td>\n",
              "      <td>50</td>\n",
              "      <td>9</td>\n",
              "      <td>0.0</td>\n",
              "      <td>0.0</td>\n",
              "      <td>0.0</td>\n",
              "      <td>0.0</td>\n",
              "      <td>0.0</td>\n",
              "      <td>0.0</td>\n",
              "      <td>0.0</td>\n",
              "      <td>0.0</td>\n",
              "      <td>UEFA</td>\n",
              "      <td>1993-08</td>\n",
              "    </tr>\n",
              "    <tr>\n",
              "      <th>3</th>\n",
              "      <td>4</td>\n",
              "      <td>Sweden</td>\n",
              "      <td>SWE</td>\n",
              "      <td>0.0</td>\n",
              "      <td>55</td>\n",
              "      <td>0</td>\n",
              "      <td>0.0</td>\n",
              "      <td>0.0</td>\n",
              "      <td>0.0</td>\n",
              "      <td>0.0</td>\n",
              "      <td>0.0</td>\n",
              "      <td>0.0</td>\n",
              "      <td>0.0</td>\n",
              "      <td>0.0</td>\n",
              "      <td>UEFA</td>\n",
              "      <td>1993-08</td>\n",
              "    </tr>\n",
              "    <tr>\n",
              "      <th>4</th>\n",
              "      <td>5</td>\n",
              "      <td>Argentina</td>\n",
              "      <td>ARG</td>\n",
              "      <td>0.0</td>\n",
              "      <td>51</td>\n",
              "      <td>5</td>\n",
              "      <td>0.0</td>\n",
              "      <td>0.0</td>\n",
              "      <td>0.0</td>\n",
              "      <td>0.0</td>\n",
              "      <td>0.0</td>\n",
              "      <td>0.0</td>\n",
              "      <td>0.0</td>\n",
              "      <td>0.0</td>\n",
              "      <td>CONMEBOL</td>\n",
              "      <td>1993-08</td>\n",
              "    </tr>\n",
              "  </tbody>\n",
              "</table>\n",
              "</div>"
            ],
            "text/plain": [
              "   rank country_full  ... confederation  rank_date\n",
              "0     1      Germany  ...          UEFA    1993-08\n",
              "1     2        Italy  ...          UEFA    1993-08\n",
              "2     3  Switzerland  ...          UEFA    1993-08\n",
              "3     4       Sweden  ...          UEFA    1993-08\n",
              "4     5    Argentina  ...      CONMEBOL    1993-08\n",
              "\n",
              "[5 rows x 16 columns]"
            ]
          },
          "metadata": {
            "tags": []
          },
          "execution_count": 124
        }
      ]
    },
    {
      "cell_type": "code",
      "metadata": {
        "colab": {
          "base_uri": "https://localhost:8080/",
          "height": 206
        },
        "id": "KqwwepzWLcWz",
        "outputId": "66573aef-752f-4ec1-efc9-4b3ce4b797e9"
      },
      "source": [
        "# Removing the day from the date time column in the results dtaset\n",
        "results['date'] = results['date'].dt.strftime('%Y-%m')\n",
        "results.head()"
      ],
      "execution_count": 125,
      "outputs": [
        {
          "output_type": "execute_result",
          "data": {
            "text/html": [
              "<div>\n",
              "<style scoped>\n",
              "    .dataframe tbody tr th:only-of-type {\n",
              "        vertical-align: middle;\n",
              "    }\n",
              "\n",
              "    .dataframe tbody tr th {\n",
              "        vertical-align: top;\n",
              "    }\n",
              "\n",
              "    .dataframe thead th {\n",
              "        text-align: right;\n",
              "    }\n",
              "</style>\n",
              "<table border=\"1\" class=\"dataframe\">\n",
              "  <thead>\n",
              "    <tr style=\"text-align: right;\">\n",
              "      <th></th>\n",
              "      <th>date</th>\n",
              "      <th>home_team</th>\n",
              "      <th>away_team</th>\n",
              "      <th>home_score</th>\n",
              "      <th>away_score</th>\n",
              "      <th>tournament</th>\n",
              "      <th>city</th>\n",
              "      <th>country</th>\n",
              "      <th>neutral</th>\n",
              "    </tr>\n",
              "  </thead>\n",
              "  <tbody>\n",
              "    <tr>\n",
              "      <th>0</th>\n",
              "      <td>1872-11</td>\n",
              "      <td>Scotland</td>\n",
              "      <td>England</td>\n",
              "      <td>0</td>\n",
              "      <td>0</td>\n",
              "      <td>Friendly</td>\n",
              "      <td>Glasgow</td>\n",
              "      <td>Scotland</td>\n",
              "      <td>False</td>\n",
              "    </tr>\n",
              "    <tr>\n",
              "      <th>1</th>\n",
              "      <td>1873-03</td>\n",
              "      <td>England</td>\n",
              "      <td>Scotland</td>\n",
              "      <td>4</td>\n",
              "      <td>2</td>\n",
              "      <td>Friendly</td>\n",
              "      <td>London</td>\n",
              "      <td>England</td>\n",
              "      <td>False</td>\n",
              "    </tr>\n",
              "    <tr>\n",
              "      <th>2</th>\n",
              "      <td>1874-03</td>\n",
              "      <td>Scotland</td>\n",
              "      <td>England</td>\n",
              "      <td>2</td>\n",
              "      <td>1</td>\n",
              "      <td>Friendly</td>\n",
              "      <td>Glasgow</td>\n",
              "      <td>Scotland</td>\n",
              "      <td>False</td>\n",
              "    </tr>\n",
              "    <tr>\n",
              "      <th>3</th>\n",
              "      <td>1875-03</td>\n",
              "      <td>England</td>\n",
              "      <td>Scotland</td>\n",
              "      <td>2</td>\n",
              "      <td>2</td>\n",
              "      <td>Friendly</td>\n",
              "      <td>London</td>\n",
              "      <td>England</td>\n",
              "      <td>False</td>\n",
              "    </tr>\n",
              "    <tr>\n",
              "      <th>4</th>\n",
              "      <td>1876-03</td>\n",
              "      <td>Scotland</td>\n",
              "      <td>England</td>\n",
              "      <td>3</td>\n",
              "      <td>0</td>\n",
              "      <td>Friendly</td>\n",
              "      <td>Glasgow</td>\n",
              "      <td>Scotland</td>\n",
              "      <td>False</td>\n",
              "    </tr>\n",
              "  </tbody>\n",
              "</table>\n",
              "</div>"
            ],
            "text/plain": [
              "      date home_team away_team  ...     city   country neutral\n",
              "0  1872-11  Scotland   England  ...  Glasgow  Scotland   False\n",
              "1  1873-03   England  Scotland  ...   London   England   False\n",
              "2  1874-03  Scotland   England  ...  Glasgow  Scotland   False\n",
              "3  1875-03   England  Scotland  ...   London   England   False\n",
              "4  1876-03  Scotland   England  ...  Glasgow  Scotland   False\n",
              "\n",
              "[5 rows x 9 columns]"
            ]
          },
          "metadata": {
            "tags": []
          },
          "execution_count": 125
        }
      ]
    },
    {
      "cell_type": "code",
      "metadata": {
        "id": "Yx0-kkFhMcsP"
      },
      "source": [
        "#Dropping the unnecessary columns\n",
        "rank = rank.drop(columns=['country_abrv', 'total_points', 'rank_change','cur_year_avg',\n",
        "                   'cur_year_avg_weighted', 'previous_points', 'last_year_avg',\t'last_year_avg_weighted', 'two_year_ago_avg',\n",
        "                   'two_year_ago_weighted',\t'three_year_ago_avg',\t'three_year_ago_weighted',\n",
        "                   'confederation'])"
      ],
      "execution_count": 126,
      "outputs": []
    },
    {
      "cell_type": "markdown",
      "metadata": {
        "id": "Mg3P3qSyM4OW"
      },
      "source": [
        "**Merging the datasets**"
      ]
    },
    {
      "cell_type": "code",
      "metadata": {
        "id": "LhoNs2s5MfwK"
      },
      "source": [
        "\n",
        "home_merged = pd.merge(results, rank, how = 'inner', left_on=['date', 'home_team'], right_on=['rank_date', 'country_full'])"
      ],
      "execution_count": 127,
      "outputs": []
    },
    {
      "cell_type": "code",
      "metadata": {
        "id": "r9zPN0c2MwQv"
      },
      "source": [
        "away_merged = pd.merge(results, rank, how = 'inner', left_on=['date', 'away_team'], right_on=['rank_date', 'country_full'])"
      ],
      "execution_count": 128,
      "outputs": []
    },
    {
      "cell_type": "code",
      "metadata": {
        "id": "nK1XqaKWNQ88"
      },
      "source": [
        "fifa_final = pd.merge(home_merged, away_merged, how='inner', left_on=['date', 'away_team', 'home_score', 'away_score', 'home_team', 'tournament', 'country'], right_on=['date', 'away_team', 'home_score', 'away_score', 'home_team', 'tournament', 'country'])"
      ],
      "execution_count": 129,
      "outputs": []
    },
    {
      "cell_type": "code",
      "metadata": {
        "colab": {
          "base_uri": "https://localhost:8080/",
          "height": 399
        },
        "id": "KBUI4L5_NTQK",
        "outputId": "b26b8f75-12c8-4084-909d-29d93d0595c1"
      },
      "source": [
        "#previewing the first 5 records of our merged dataset\n",
        "fifa_final.head()"
      ],
      "execution_count": 130,
      "outputs": [
        {
          "output_type": "execute_result",
          "data": {
            "text/html": [
              "<div>\n",
              "<style scoped>\n",
              "    .dataframe tbody tr th:only-of-type {\n",
              "        vertical-align: middle;\n",
              "    }\n",
              "\n",
              "    .dataframe tbody tr th {\n",
              "        vertical-align: top;\n",
              "    }\n",
              "\n",
              "    .dataframe thead th {\n",
              "        text-align: right;\n",
              "    }\n",
              "</style>\n",
              "<table border=\"1\" class=\"dataframe\">\n",
              "  <thead>\n",
              "    <tr style=\"text-align: right;\">\n",
              "      <th></th>\n",
              "      <th>date</th>\n",
              "      <th>home_team</th>\n",
              "      <th>away_team</th>\n",
              "      <th>home_score</th>\n",
              "      <th>away_score</th>\n",
              "      <th>tournament</th>\n",
              "      <th>city_x</th>\n",
              "      <th>country</th>\n",
              "      <th>neutral_x</th>\n",
              "      <th>rank_x</th>\n",
              "      <th>country_full_x</th>\n",
              "      <th>rank_date_x</th>\n",
              "      <th>city_y</th>\n",
              "      <th>neutral_y</th>\n",
              "      <th>rank_y</th>\n",
              "      <th>country_full_y</th>\n",
              "      <th>rank_date_y</th>\n",
              "    </tr>\n",
              "  </thead>\n",
              "  <tbody>\n",
              "    <tr>\n",
              "      <th>0</th>\n",
              "      <td>1993-08</td>\n",
              "      <td>Colombia</td>\n",
              "      <td>Paraguay</td>\n",
              "      <td>0</td>\n",
              "      <td>0</td>\n",
              "      <td>FIFA World Cup qualification</td>\n",
              "      <td>Barranquilla</td>\n",
              "      <td>Colombia</td>\n",
              "      <td>False</td>\n",
              "      <td>19</td>\n",
              "      <td>Colombia</td>\n",
              "      <td>1993-08</td>\n",
              "      <td>Barranquilla</td>\n",
              "      <td>False</td>\n",
              "      <td>67</td>\n",
              "      <td>Paraguay</td>\n",
              "      <td>1993-08</td>\n",
              "    </tr>\n",
              "    <tr>\n",
              "      <th>1</th>\n",
              "      <td>1993-08</td>\n",
              "      <td>Colombia</td>\n",
              "      <td>Argentina</td>\n",
              "      <td>2</td>\n",
              "      <td>1</td>\n",
              "      <td>FIFA World Cup qualification</td>\n",
              "      <td>Barranquilla</td>\n",
              "      <td>Colombia</td>\n",
              "      <td>False</td>\n",
              "      <td>19</td>\n",
              "      <td>Colombia</td>\n",
              "      <td>1993-08</td>\n",
              "      <td>Barranquilla</td>\n",
              "      <td>False</td>\n",
              "      <td>5</td>\n",
              "      <td>Argentina</td>\n",
              "      <td>1993-08</td>\n",
              "    </tr>\n",
              "    <tr>\n",
              "      <th>2</th>\n",
              "      <td>1993-08</td>\n",
              "      <td>Colombia</td>\n",
              "      <td>Peru</td>\n",
              "      <td>4</td>\n",
              "      <td>0</td>\n",
              "      <td>FIFA World Cup qualification</td>\n",
              "      <td>Barranquilla</td>\n",
              "      <td>Colombia</td>\n",
              "      <td>False</td>\n",
              "      <td>19</td>\n",
              "      <td>Colombia</td>\n",
              "      <td>1993-08</td>\n",
              "      <td>Barranquilla</td>\n",
              "      <td>False</td>\n",
              "      <td>70</td>\n",
              "      <td>Peru</td>\n",
              "      <td>1993-08</td>\n",
              "    </tr>\n",
              "    <tr>\n",
              "      <th>3</th>\n",
              "      <td>1993-08</td>\n",
              "      <td>Peru</td>\n",
              "      <td>Argentina</td>\n",
              "      <td>0</td>\n",
              "      <td>1</td>\n",
              "      <td>FIFA World Cup qualification</td>\n",
              "      <td>Lima</td>\n",
              "      <td>Peru</td>\n",
              "      <td>False</td>\n",
              "      <td>70</td>\n",
              "      <td>Peru</td>\n",
              "      <td>1993-08</td>\n",
              "      <td>Lima</td>\n",
              "      <td>False</td>\n",
              "      <td>5</td>\n",
              "      <td>Argentina</td>\n",
              "      <td>1993-08</td>\n",
              "    </tr>\n",
              "    <tr>\n",
              "      <th>4</th>\n",
              "      <td>1993-08</td>\n",
              "      <td>Peru</td>\n",
              "      <td>Colombia</td>\n",
              "      <td>0</td>\n",
              "      <td>1</td>\n",
              "      <td>FIFA World Cup qualification</td>\n",
              "      <td>Lima</td>\n",
              "      <td>Peru</td>\n",
              "      <td>False</td>\n",
              "      <td>70</td>\n",
              "      <td>Peru</td>\n",
              "      <td>1993-08</td>\n",
              "      <td>Lima</td>\n",
              "      <td>False</td>\n",
              "      <td>19</td>\n",
              "      <td>Colombia</td>\n",
              "      <td>1993-08</td>\n",
              "    </tr>\n",
              "  </tbody>\n",
              "</table>\n",
              "</div>"
            ],
            "text/plain": [
              "      date home_team  away_team  ...  rank_y  country_full_y rank_date_y\n",
              "0  1993-08  Colombia   Paraguay  ...      67        Paraguay     1993-08\n",
              "1  1993-08  Colombia  Argentina  ...       5       Argentina     1993-08\n",
              "2  1993-08  Colombia       Peru  ...      70            Peru     1993-08\n",
              "3  1993-08      Peru  Argentina  ...       5       Argentina     1993-08\n",
              "4  1993-08      Peru   Colombia  ...      19        Colombia     1993-08\n",
              "\n",
              "[5 rows x 17 columns]"
            ]
          },
          "metadata": {
            "tags": []
          },
          "execution_count": 130
        }
      ]
    },
    {
      "cell_type": "code",
      "metadata": {
        "colab": {
          "base_uri": "https://localhost:8080/",
          "height": 423
        },
        "id": "TpW12NqlNkrZ",
        "outputId": "c0ce2b7d-3260-4dce-be0d-d44cdb2b3802"
      },
      "source": [
        "#dropping the columns we wont need during the analysis\n",
        "fifa_final  = fifa_final.drop(columns=['city_x', 'city_y', 'country', 'neutral_x', 'neutral_y', 'rank_date_x', 'rank_date_y', 'country_full_x', 'country_full_y'])\n",
        "fifa_final"
      ],
      "execution_count": 131,
      "outputs": [
        {
          "output_type": "execute_result",
          "data": {
            "text/html": [
              "<div>\n",
              "<style scoped>\n",
              "    .dataframe tbody tr th:only-of-type {\n",
              "        vertical-align: middle;\n",
              "    }\n",
              "\n",
              "    .dataframe tbody tr th {\n",
              "        vertical-align: top;\n",
              "    }\n",
              "\n",
              "    .dataframe thead th {\n",
              "        text-align: right;\n",
              "    }\n",
              "</style>\n",
              "<table border=\"1\" class=\"dataframe\">\n",
              "  <thead>\n",
              "    <tr style=\"text-align: right;\">\n",
              "      <th></th>\n",
              "      <th>date</th>\n",
              "      <th>home_team</th>\n",
              "      <th>away_team</th>\n",
              "      <th>home_score</th>\n",
              "      <th>away_score</th>\n",
              "      <th>tournament</th>\n",
              "      <th>rank_x</th>\n",
              "      <th>rank_y</th>\n",
              "    </tr>\n",
              "  </thead>\n",
              "  <tbody>\n",
              "    <tr>\n",
              "      <th>0</th>\n",
              "      <td>1993-08</td>\n",
              "      <td>Colombia</td>\n",
              "      <td>Paraguay</td>\n",
              "      <td>0</td>\n",
              "      <td>0</td>\n",
              "      <td>FIFA World Cup qualification</td>\n",
              "      <td>19</td>\n",
              "      <td>67</td>\n",
              "    </tr>\n",
              "    <tr>\n",
              "      <th>1</th>\n",
              "      <td>1993-08</td>\n",
              "      <td>Colombia</td>\n",
              "      <td>Argentina</td>\n",
              "      <td>2</td>\n",
              "      <td>1</td>\n",
              "      <td>FIFA World Cup qualification</td>\n",
              "      <td>19</td>\n",
              "      <td>5</td>\n",
              "    </tr>\n",
              "    <tr>\n",
              "      <th>2</th>\n",
              "      <td>1993-08</td>\n",
              "      <td>Colombia</td>\n",
              "      <td>Peru</td>\n",
              "      <td>4</td>\n",
              "      <td>0</td>\n",
              "      <td>FIFA World Cup qualification</td>\n",
              "      <td>19</td>\n",
              "      <td>70</td>\n",
              "    </tr>\n",
              "    <tr>\n",
              "      <th>3</th>\n",
              "      <td>1993-08</td>\n",
              "      <td>Peru</td>\n",
              "      <td>Argentina</td>\n",
              "      <td>0</td>\n",
              "      <td>1</td>\n",
              "      <td>FIFA World Cup qualification</td>\n",
              "      <td>70</td>\n",
              "      <td>5</td>\n",
              "    </tr>\n",
              "    <tr>\n",
              "      <th>4</th>\n",
              "      <td>1993-08</td>\n",
              "      <td>Peru</td>\n",
              "      <td>Colombia</td>\n",
              "      <td>0</td>\n",
              "      <td>1</td>\n",
              "      <td>FIFA World Cup qualification</td>\n",
              "      <td>70</td>\n",
              "      <td>19</td>\n",
              "    </tr>\n",
              "    <tr>\n",
              "      <th>...</th>\n",
              "      <td>...</td>\n",
              "      <td>...</td>\n",
              "      <td>...</td>\n",
              "      <td>...</td>\n",
              "      <td>...</td>\n",
              "      <td>...</td>\n",
              "      <td>...</td>\n",
              "      <td>...</td>\n",
              "    </tr>\n",
              "    <tr>\n",
              "      <th>17024</th>\n",
              "      <td>2018-06</td>\n",
              "      <td>Nigeria</td>\n",
              "      <td>Iceland</td>\n",
              "      <td>2</td>\n",
              "      <td>0</td>\n",
              "      <td>FIFA World Cup</td>\n",
              "      <td>48</td>\n",
              "      <td>22</td>\n",
              "    </tr>\n",
              "    <tr>\n",
              "      <th>17025</th>\n",
              "      <td>2018-06</td>\n",
              "      <td>Nigeria</td>\n",
              "      <td>Argentina</td>\n",
              "      <td>1</td>\n",
              "      <td>2</td>\n",
              "      <td>FIFA World Cup</td>\n",
              "      <td>48</td>\n",
              "      <td>5</td>\n",
              "    </tr>\n",
              "    <tr>\n",
              "      <th>17026</th>\n",
              "      <td>2018-06</td>\n",
              "      <td>Australia</td>\n",
              "      <td>Peru</td>\n",
              "      <td>0</td>\n",
              "      <td>2</td>\n",
              "      <td>FIFA World Cup</td>\n",
              "      <td>36</td>\n",
              "      <td>11</td>\n",
              "    </tr>\n",
              "    <tr>\n",
              "      <th>17027</th>\n",
              "      <td>2018-06</td>\n",
              "      <td>Senegal</td>\n",
              "      <td>Colombia</td>\n",
              "      <td>0</td>\n",
              "      <td>1</td>\n",
              "      <td>FIFA World Cup</td>\n",
              "      <td>27</td>\n",
              "      <td>16</td>\n",
              "    </tr>\n",
              "    <tr>\n",
              "      <th>17028</th>\n",
              "      <td>2018-06</td>\n",
              "      <td>Panama</td>\n",
              "      <td>Tunisia</td>\n",
              "      <td>1</td>\n",
              "      <td>2</td>\n",
              "      <td>FIFA World Cup</td>\n",
              "      <td>55</td>\n",
              "      <td>21</td>\n",
              "    </tr>\n",
              "  </tbody>\n",
              "</table>\n",
              "<p>17029 rows × 8 columns</p>\n",
              "</div>"
            ],
            "text/plain": [
              "          date  home_team  ... rank_x  rank_y\n",
              "0      1993-08   Colombia  ...     19      67\n",
              "1      1993-08   Colombia  ...     19       5\n",
              "2      1993-08   Colombia  ...     19      70\n",
              "3      1993-08       Peru  ...     70       5\n",
              "4      1993-08       Peru  ...     70      19\n",
              "...        ...        ...  ...    ...     ...\n",
              "17024  2018-06    Nigeria  ...     48      22\n",
              "17025  2018-06    Nigeria  ...     48       5\n",
              "17026  2018-06  Australia  ...     36      11\n",
              "17027  2018-06    Senegal  ...     27      16\n",
              "17028  2018-06     Panama  ...     55      21\n",
              "\n",
              "[17029 rows x 8 columns]"
            ]
          },
          "metadata": {
            "tags": []
          },
          "execution_count": 131
        }
      ]
    },
    {
      "cell_type": "code",
      "metadata": {
        "colab": {
          "base_uri": "https://localhost:8080/"
        },
        "id": "UOVKdHVBN4cr",
        "outputId": "becffc92-3d51-4c02-b807-9f81ddb17871"
      },
      "source": [
        "#checking the shape of our merged dataset\n",
        "fifa_final.shape"
      ],
      "execution_count": 132,
      "outputs": [
        {
          "output_type": "execute_result",
          "data": {
            "text/plain": [
              "(17029, 8)"
            ]
          },
          "metadata": {
            "tags": []
          },
          "execution_count": 132
        }
      ]
    },
    {
      "cell_type": "code",
      "metadata": {
        "id": "9wgImDVTOFcv"
      },
      "source": [
        "#Creating a new column to show the match outcome\n",
        "fifa_final['result'] = fifa_final['home_score'] - fifa_final['away_score']\n"
      ],
      "execution_count": 133,
      "outputs": []
    },
    {
      "cell_type": "code",
      "metadata": {
        "colab": {
          "base_uri": "https://localhost:8080/",
          "height": 206
        },
        "id": "nNbSxx26OnaS",
        "outputId": "d30e9ae1-c60c-4fbc-c170-30bc7aa987f8"
      },
      "source": [
        "#previewing the dataset if the new column has been added\n",
        "fifa_final.head()"
      ],
      "execution_count": 134,
      "outputs": [
        {
          "output_type": "execute_result",
          "data": {
            "text/html": [
              "<div>\n",
              "<style scoped>\n",
              "    .dataframe tbody tr th:only-of-type {\n",
              "        vertical-align: middle;\n",
              "    }\n",
              "\n",
              "    .dataframe tbody tr th {\n",
              "        vertical-align: top;\n",
              "    }\n",
              "\n",
              "    .dataframe thead th {\n",
              "        text-align: right;\n",
              "    }\n",
              "</style>\n",
              "<table border=\"1\" class=\"dataframe\">\n",
              "  <thead>\n",
              "    <tr style=\"text-align: right;\">\n",
              "      <th></th>\n",
              "      <th>date</th>\n",
              "      <th>home_team</th>\n",
              "      <th>away_team</th>\n",
              "      <th>home_score</th>\n",
              "      <th>away_score</th>\n",
              "      <th>tournament</th>\n",
              "      <th>rank_x</th>\n",
              "      <th>rank_y</th>\n",
              "      <th>result</th>\n",
              "    </tr>\n",
              "  </thead>\n",
              "  <tbody>\n",
              "    <tr>\n",
              "      <th>0</th>\n",
              "      <td>1993-08</td>\n",
              "      <td>Colombia</td>\n",
              "      <td>Paraguay</td>\n",
              "      <td>0</td>\n",
              "      <td>0</td>\n",
              "      <td>FIFA World Cup qualification</td>\n",
              "      <td>19</td>\n",
              "      <td>67</td>\n",
              "      <td>0</td>\n",
              "    </tr>\n",
              "    <tr>\n",
              "      <th>1</th>\n",
              "      <td>1993-08</td>\n",
              "      <td>Colombia</td>\n",
              "      <td>Argentina</td>\n",
              "      <td>2</td>\n",
              "      <td>1</td>\n",
              "      <td>FIFA World Cup qualification</td>\n",
              "      <td>19</td>\n",
              "      <td>5</td>\n",
              "      <td>1</td>\n",
              "    </tr>\n",
              "    <tr>\n",
              "      <th>2</th>\n",
              "      <td>1993-08</td>\n",
              "      <td>Colombia</td>\n",
              "      <td>Peru</td>\n",
              "      <td>4</td>\n",
              "      <td>0</td>\n",
              "      <td>FIFA World Cup qualification</td>\n",
              "      <td>19</td>\n",
              "      <td>70</td>\n",
              "      <td>4</td>\n",
              "    </tr>\n",
              "    <tr>\n",
              "      <th>3</th>\n",
              "      <td>1993-08</td>\n",
              "      <td>Peru</td>\n",
              "      <td>Argentina</td>\n",
              "      <td>0</td>\n",
              "      <td>1</td>\n",
              "      <td>FIFA World Cup qualification</td>\n",
              "      <td>70</td>\n",
              "      <td>5</td>\n",
              "      <td>-1</td>\n",
              "    </tr>\n",
              "    <tr>\n",
              "      <th>4</th>\n",
              "      <td>1993-08</td>\n",
              "      <td>Peru</td>\n",
              "      <td>Colombia</td>\n",
              "      <td>0</td>\n",
              "      <td>1</td>\n",
              "      <td>FIFA World Cup qualification</td>\n",
              "      <td>70</td>\n",
              "      <td>19</td>\n",
              "      <td>-1</td>\n",
              "    </tr>\n",
              "  </tbody>\n",
              "</table>\n",
              "</div>"
            ],
            "text/plain": [
              "      date home_team  away_team  ...  rank_x  rank_y result\n",
              "0  1993-08  Colombia   Paraguay  ...      19      67      0\n",
              "1  1993-08  Colombia  Argentina  ...      19       5      1\n",
              "2  1993-08  Colombia       Peru  ...      19      70      4\n",
              "3  1993-08      Peru  Argentina  ...      70       5     -1\n",
              "4  1993-08      Peru   Colombia  ...      70      19     -1\n",
              "\n",
              "[5 rows x 9 columns]"
            ]
          },
          "metadata": {
            "tags": []
          },
          "execution_count": 134
        }
      ]
    },
    {
      "cell_type": "code",
      "metadata": {
        "id": "kNqGGTaKPKhg"
      },
      "source": [
        "#creating a function for the win ,loss and draw\n",
        "\n",
        "def result(x):\n",
        "  if x >0:\n",
        "    return 'win'\n",
        "  elif x<0:\n",
        "    return 'loss'\n",
        "  else:\n",
        "    return 'draw'"
      ],
      "execution_count": 135,
      "outputs": []
    },
    {
      "cell_type": "code",
      "metadata": {
        "id": "6_ok-FMXPXD1"
      },
      "source": [
        "#Implementing and applying our function that will determine if a matchis a win,lose or draw\n",
        "\n",
        "fifa_final['results']=fifa_final.result.apply(lambda x: result(x))"
      ],
      "execution_count": 136,
      "outputs": []
    },
    {
      "cell_type": "code",
      "metadata": {
        "id": "S9VWgE-EPf4K"
      },
      "source": [
        "fifa_final.tournament = fifa_final.tournament.apply(lambda x: 'World Cup' if x == 'FIFA World Cup qualification' \n",
        "                                            else ( 'World Cup' if x == 'FIFA World Cup' else ('Friendly' if x == 'Friendly' else 'Other')))"
      ],
      "execution_count": 137,
      "outputs": []
    },
    {
      "cell_type": "code",
      "metadata": {
        "colab": {
          "base_uri": "https://localhost:8080/",
          "height": 206
        },
        "id": "7cX8cPwjPlPi",
        "outputId": "c6eed5b2-6359-485a-aff4-1b9a6520ea30"
      },
      "source": [
        "fifa_final.head()"
      ],
      "execution_count": 138,
      "outputs": [
        {
          "output_type": "execute_result",
          "data": {
            "text/html": [
              "<div>\n",
              "<style scoped>\n",
              "    .dataframe tbody tr th:only-of-type {\n",
              "        vertical-align: middle;\n",
              "    }\n",
              "\n",
              "    .dataframe tbody tr th {\n",
              "        vertical-align: top;\n",
              "    }\n",
              "\n",
              "    .dataframe thead th {\n",
              "        text-align: right;\n",
              "    }\n",
              "</style>\n",
              "<table border=\"1\" class=\"dataframe\">\n",
              "  <thead>\n",
              "    <tr style=\"text-align: right;\">\n",
              "      <th></th>\n",
              "      <th>date</th>\n",
              "      <th>home_team</th>\n",
              "      <th>away_team</th>\n",
              "      <th>home_score</th>\n",
              "      <th>away_score</th>\n",
              "      <th>tournament</th>\n",
              "      <th>rank_x</th>\n",
              "      <th>rank_y</th>\n",
              "      <th>result</th>\n",
              "      <th>results</th>\n",
              "    </tr>\n",
              "  </thead>\n",
              "  <tbody>\n",
              "    <tr>\n",
              "      <th>0</th>\n",
              "      <td>1993-08</td>\n",
              "      <td>Colombia</td>\n",
              "      <td>Paraguay</td>\n",
              "      <td>0</td>\n",
              "      <td>0</td>\n",
              "      <td>World Cup</td>\n",
              "      <td>19</td>\n",
              "      <td>67</td>\n",
              "      <td>0</td>\n",
              "      <td>draw</td>\n",
              "    </tr>\n",
              "    <tr>\n",
              "      <th>1</th>\n",
              "      <td>1993-08</td>\n",
              "      <td>Colombia</td>\n",
              "      <td>Argentina</td>\n",
              "      <td>2</td>\n",
              "      <td>1</td>\n",
              "      <td>World Cup</td>\n",
              "      <td>19</td>\n",
              "      <td>5</td>\n",
              "      <td>1</td>\n",
              "      <td>win</td>\n",
              "    </tr>\n",
              "    <tr>\n",
              "      <th>2</th>\n",
              "      <td>1993-08</td>\n",
              "      <td>Colombia</td>\n",
              "      <td>Peru</td>\n",
              "      <td>4</td>\n",
              "      <td>0</td>\n",
              "      <td>World Cup</td>\n",
              "      <td>19</td>\n",
              "      <td>70</td>\n",
              "      <td>4</td>\n",
              "      <td>win</td>\n",
              "    </tr>\n",
              "    <tr>\n",
              "      <th>3</th>\n",
              "      <td>1993-08</td>\n",
              "      <td>Peru</td>\n",
              "      <td>Argentina</td>\n",
              "      <td>0</td>\n",
              "      <td>1</td>\n",
              "      <td>World Cup</td>\n",
              "      <td>70</td>\n",
              "      <td>5</td>\n",
              "      <td>-1</td>\n",
              "      <td>loss</td>\n",
              "    </tr>\n",
              "    <tr>\n",
              "      <th>4</th>\n",
              "      <td>1993-08</td>\n",
              "      <td>Peru</td>\n",
              "      <td>Colombia</td>\n",
              "      <td>0</td>\n",
              "      <td>1</td>\n",
              "      <td>World Cup</td>\n",
              "      <td>70</td>\n",
              "      <td>19</td>\n",
              "      <td>-1</td>\n",
              "      <td>loss</td>\n",
              "    </tr>\n",
              "  </tbody>\n",
              "</table>\n",
              "</div>"
            ],
            "text/plain": [
              "      date home_team  away_team  home_score  ...  rank_x rank_y  result  results\n",
              "0  1993-08  Colombia   Paraguay           0  ...      19     67       0     draw\n",
              "1  1993-08  Colombia  Argentina           2  ...      19      5       1      win\n",
              "2  1993-08  Colombia       Peru           4  ...      19     70       4      win\n",
              "3  1993-08      Peru  Argentina           0  ...      70      5      -1     loss\n",
              "4  1993-08      Peru   Colombia           0  ...      70     19      -1     loss\n",
              "\n",
              "[5 rows x 10 columns]"
            ]
          },
          "metadata": {
            "tags": []
          },
          "execution_count": 138
        }
      ]
    },
    {
      "cell_type": "code",
      "metadata": {
        "colab": {
          "base_uri": "https://localhost:8080/",
          "height": 618
        },
        "id": "woicH2N_QWuW",
        "outputId": "1b7f123d-6dd3-4f0f-c86e-06f84335b62d"
      },
      "source": [
        "# Checking for Anomalies\n",
        "# Checking for outliers in the columns with numerical data\n",
        "\n",
        "col_names = ['home_score', 'away_score']\n",
        "\n",
        "fig, ax = plt.subplots(len(col_names), figsize=(10,10))\n",
        "\n",
        "for i, col_val in enumerate(col_names):\n",
        "    sns.boxplot(fifa_final[col_val], ax=ax[i])\n",
        "    ax[i].set_title('Box plot - {}'.format(col_val), fontsize=10)\n",
        "    ax[i].set_xlabel(col_val, fontsize=8)\n",
        "plt.show()\n",
        "# we have outliers in the dataset"
      ],
      "execution_count": 139,
      "outputs": [
        {
          "output_type": "display_data",
          "data": {
            "image/png": "[encoded data removed]",
            "text/plain": [
              "<Figure size 720x720 with 2 Axes>"
            ]
          },
          "metadata": {
            "tags": [],
            "needs_background": "light"
          }
        }
      ]
    },
    {
      "cell_type": "code",
      "metadata": {
        "colab": {
          "base_uri": "https://localhost:8080/",
          "height": 494
        },
        "id": "W_ScWQmPlA71",
        "outputId": "f0643a2f-fcd1-4e5a-d0dd-5f792d66ab0a"
      },
      "source": [
        "#Checking for outliers\n",
        "\n",
        "fig, ((ax1, ax2), (ax3, ax4)) = plt.subplots(2,2, figsize=(10, 7))\n",
        "fig.suptitle('Boxplots')\n",
        "sns.boxplot(fifa_final['home_score'], ax=ax1)\n",
        "sns.boxplot(fifa_final['away_score'], ax=ax2)\n",
        "sns.boxplot(fifa_final['rank_x'], ax=ax3)\n",
        "sns.boxplot(fifa_final['rank_y'], ax=ax4)\n",
        "plt.show()"
      ],
      "execution_count": 140,
      "outputs": [
        {
          "output_type": "display_data",
          "data": {
            "image/png": "[encoded data removed]",
            "text/plain": [
              "<Figure size 720x504 with 4 Axes>"
            ]
          },
          "metadata": {
            "tags": [],
            "needs_background": "light"
          }
        }
      ]
    },
    {
      "cell_type": "code",
      "metadata": {
        "colab": {
          "base_uri": "https://localhost:8080/",
          "height": 494
        },
        "id": "Lgt_zmAqkjZF",
        "outputId": "d3d867a1-bf90-428a-b925-3514b672900e"
      },
      "source": [
        "\n",
        "#Dropping the outliers in home and away scores\n",
        "fifa_final.drop(fifa_final[fifa_final['home_score']>5].index, inplace=True)\n",
        "\n",
        "fifa_final.drop(fifa_final[fifa_final['away_score']>5].index, inplace=True)\n",
        "\n",
        "fig, ((ax1, ax2), (ax3, ax4)) = plt.subplots(2,2, figsize=(10, 7))\n",
        "fig.suptitle('Boxplots')\n",
        "sns.boxplot(fifa_final['home_score'], ax=ax1)\n",
        "sns.boxplot(fifa_final['away_score'], ax=ax2)\n",
        "sns.boxplot(fifa_final['rank_x'], ax=ax3)\n",
        "sns.boxplot(fifa_final['rank_y'], ax=ax4)\n",
        "plt.show()"
      ],
      "execution_count": 141,
      "outputs": [
        {
          "output_type": "display_data",
          "data": {
            "image/png": "[encoded data removed]",
            "text/plain": [
              "<Figure size 720x504 with 4 Axes>"
            ]
          },
          "metadata": {
            "tags": [],
            "needs_background": "light"
          }
        }
      ]
    },
    {
      "cell_type": "code",
      "metadata": {
        "colab": {
          "base_uri": "https://localhost:8080/"
        },
        "id": "ZpgZrbVZmIDl",
        "outputId": "87e67632-a093-40e4-ee73-0fb67125c866"
      },
      "source": [
        "#Checking for missing values\n",
        "fifa_final.isnull().sum()\n",
        "#no missing values in the dataset"
      ],
      "execution_count": 142,
      "outputs": [
        {
          "output_type": "execute_result",
          "data": {
            "text/plain": [
              "date          0\n",
              "home_team     0\n",
              "away_team     0\n",
              "home_score    0\n",
              "away_score    0\n",
              "tournament    0\n",
              "rank_x        0\n",
              "rank_y        0\n",
              "result        0\n",
              "results       0\n",
              "dtype: int64"
            ]
          },
          "metadata": {
            "tags": []
          },
          "execution_count": 142
        }
      ]
    },
    {
      "cell_type": "code",
      "metadata": {
        "colab": {
          "base_uri": "https://localhost:8080/"
        },
        "id": "oBTECpstmUVG",
        "outputId": "ab8a4691-980f-4fa4-9b24-07ac8b511b69"
      },
      "source": [
        "#checking for duplicated values\n",
        "fifa_final.duplicated().sum()"
      ],
      "execution_count": 143,
      "outputs": [
        {
          "output_type": "execute_result",
          "data": {
            "text/plain": [
              "164"
            ]
          },
          "metadata": {
            "tags": []
          },
          "execution_count": 143
        }
      ]
    },
    {
      "cell_type": "code",
      "metadata": {
        "id": "sm8olC__ourG"
      },
      "source": [
        "#dropping the duplicated values\n",
        "fifa_final.drop_duplicates(subset=['date','home_team','away_team','home_score','away_score','tournament'], keep= 'first', inplace= True)"
      ],
      "execution_count": 144,
      "outputs": []
    },
    {
      "cell_type": "code",
      "metadata": {
        "colab": {
          "base_uri": "https://localhost:8080/"
        },
        "id": "xh4ctuYWo7cs",
        "outputId": "f354dff4-3740-49be-d8e3-c361a2595bcc"
      },
      "source": [
        "#checking if the duplicates have been dropped\n",
        "fifa_final.duplicated().sum()"
      ],
      "execution_count": 145,
      "outputs": [
        {
          "output_type": "execute_result",
          "data": {
            "text/plain": [
              "0"
            ]
          },
          "metadata": {
            "tags": []
          },
          "execution_count": 145
        }
      ]
    },
    {
      "cell_type": "code",
      "metadata": {
        "colab": {
          "base_uri": "https://localhost:8080/"
        },
        "id": "RKEskwlXrA7r",
        "outputId": "36ab51c5-bd2e-41c1-a46b-d929f2377c68"
      },
      "source": [
        "\n",
        "fifa_final.tournament.unique()"
      ],
      "execution_count": 146,
      "outputs": [
        {
          "output_type": "execute_result",
          "data": {
            "text/plain": [
              "array(['World Cup', 'Friendly', 'Other'], dtype=object)"
            ]
          },
          "metadata": {
            "tags": []
          },
          "execution_count": 146
        }
      ]
    },
    {
      "cell_type": "code",
      "metadata": {
        "colab": {
          "base_uri": "https://localhost:8080/",
          "height": 313
        },
        "id": "bEFh70PB1F9P",
        "outputId": "1632edd6-133f-4435-e04c-7bfb9fac40b6"
      },
      "source": [
        "#Renaming columns\n",
        "fifa_final.rename(columns={'rank_x' : 'home_team_rank', 'rank_y' : 'away_team_rank'}, inplace=True)\n",
        "fifa_final.head()"
      ],
      "execution_count": 154,
      "outputs": [
        {
          "output_type": "execute_result",
          "data": {
            "text/html": [
              "<div>\n",
              "<style scoped>\n",
              "    .dataframe tbody tr th:only-of-type {\n",
              "        vertical-align: middle;\n",
              "    }\n",
              "\n",
              "    .dataframe tbody tr th {\n",
              "        vertical-align: top;\n",
              "    }\n",
              "\n",
              "    .dataframe thead th {\n",
              "        text-align: right;\n",
              "    }\n",
              "</style>\n",
              "<table border=\"1\" class=\"dataframe\">\n",
              "  <thead>\n",
              "    <tr style=\"text-align: right;\">\n",
              "      <th></th>\n",
              "      <th>date</th>\n",
              "      <th>home_team</th>\n",
              "      <th>away_team</th>\n",
              "      <th>home_score</th>\n",
              "      <th>away_score</th>\n",
              "      <th>tournament</th>\n",
              "      <th>home_team_rank</th>\n",
              "      <th>away_team_rank</th>\n",
              "      <th>result</th>\n",
              "      <th>results</th>\n",
              "    </tr>\n",
              "  </thead>\n",
              "  <tbody>\n",
              "    <tr>\n",
              "      <th>0</th>\n",
              "      <td>1993-08</td>\n",
              "      <td>Colombia</td>\n",
              "      <td>Paraguay</td>\n",
              "      <td>0</td>\n",
              "      <td>0</td>\n",
              "      <td>World Cup</td>\n",
              "      <td>19</td>\n",
              "      <td>67</td>\n",
              "      <td>0</td>\n",
              "      <td>draw</td>\n",
              "    </tr>\n",
              "    <tr>\n",
              "      <th>1</th>\n",
              "      <td>1993-08</td>\n",
              "      <td>Colombia</td>\n",
              "      <td>Argentina</td>\n",
              "      <td>2</td>\n",
              "      <td>1</td>\n",
              "      <td>World Cup</td>\n",
              "      <td>19</td>\n",
              "      <td>5</td>\n",
              "      <td>1</td>\n",
              "      <td>win</td>\n",
              "    </tr>\n",
              "    <tr>\n",
              "      <th>2</th>\n",
              "      <td>1993-08</td>\n",
              "      <td>Colombia</td>\n",
              "      <td>Peru</td>\n",
              "      <td>4</td>\n",
              "      <td>0</td>\n",
              "      <td>World Cup</td>\n",
              "      <td>19</td>\n",
              "      <td>70</td>\n",
              "      <td>4</td>\n",
              "      <td>win</td>\n",
              "    </tr>\n",
              "    <tr>\n",
              "      <th>3</th>\n",
              "      <td>1993-08</td>\n",
              "      <td>Peru</td>\n",
              "      <td>Argentina</td>\n",
              "      <td>0</td>\n",
              "      <td>1</td>\n",
              "      <td>World Cup</td>\n",
              "      <td>70</td>\n",
              "      <td>5</td>\n",
              "      <td>-1</td>\n",
              "      <td>loss</td>\n",
              "    </tr>\n",
              "    <tr>\n",
              "      <th>4</th>\n",
              "      <td>1993-08</td>\n",
              "      <td>Peru</td>\n",
              "      <td>Colombia</td>\n",
              "      <td>0</td>\n",
              "      <td>1</td>\n",
              "      <td>World Cup</td>\n",
              "      <td>70</td>\n",
              "      <td>19</td>\n",
              "      <td>-1</td>\n",
              "      <td>loss</td>\n",
              "    </tr>\n",
              "  </tbody>\n",
              "</table>\n",
              "</div>"
            ],
            "text/plain": [
              "      date home_team  away_team  ...  away_team_rank  result results\n",
              "0  1993-08  Colombia   Paraguay  ...              67       0    draw\n",
              "1  1993-08  Colombia  Argentina  ...               5       1     win\n",
              "2  1993-08  Colombia       Peru  ...              70       4     win\n",
              "3  1993-08      Peru  Argentina  ...               5      -1    loss\n",
              "4  1993-08      Peru   Colombia  ...              19      -1    loss\n",
              "\n",
              "[5 rows x 10 columns]"
            ]
          },
          "metadata": {
            "tags": []
          },
          "execution_count": 154
        }
      ]
    },
    {
      "cell_type": "markdown",
      "metadata": {
        "id": "i1hZvEoApFml"
      },
      "source": [
        "# **5.Exloratory Data Analysis**"
      ]
    },
    {
      "cell_type": "markdown",
      "metadata": {
        "id": "E-32X7-TpRuj"
      },
      "source": [
        "**Univariate Analysis**"
      ]
    },
    {
      "cell_type": "markdown",
      "metadata": {
        "id": "H8pKYJKiqAp7"
      },
      "source": [
        "**Categorical Variables**"
      ]
    },
    {
      "cell_type": "code",
      "metadata": {
        "colab": {
          "base_uri": "https://localhost:8080/",
          "height": 300
        },
        "id": "gCcruYv6qh8Y",
        "outputId": "d7d918d8-574c-46d4-899d-456cabf2b0a5"
      },
      "source": [
        "#finding the summary statistics for our dataframe\n",
        "fifa_final.describe()"
      ],
      "execution_count": 147,
      "outputs": [
        {
          "output_type": "execute_result",
          "data": {
            "text/html": [
              "<div>\n",
              "<style scoped>\n",
              "    .dataframe tbody tr th:only-of-type {\n",
              "        vertical-align: middle;\n",
              "    }\n",
              "\n",
              "    .dataframe tbody tr th {\n",
              "        vertical-align: top;\n",
              "    }\n",
              "\n",
              "    .dataframe thead th {\n",
              "        text-align: right;\n",
              "    }\n",
              "</style>\n",
              "<table border=\"1\" class=\"dataframe\">\n",
              "  <thead>\n",
              "    <tr style=\"text-align: right;\">\n",
              "      <th></th>\n",
              "      <th>home_score</th>\n",
              "      <th>away_score</th>\n",
              "      <th>rank_x</th>\n",
              "      <th>rank_y</th>\n",
              "      <th>result</th>\n",
              "    </tr>\n",
              "  </thead>\n",
              "  <tbody>\n",
              "    <tr>\n",
              "      <th>count</th>\n",
              "      <td>16157.000000</td>\n",
              "      <td>16157.000000</td>\n",
              "      <td>16157.000000</td>\n",
              "      <td>16157.000000</td>\n",
              "      <td>16157.000000</td>\n",
              "    </tr>\n",
              "    <tr>\n",
              "      <th>mean</th>\n",
              "      <td>1.469023</td>\n",
              "      <td>1.029585</td>\n",
              "      <td>75.533948</td>\n",
              "      <td>77.363619</td>\n",
              "      <td>0.439438</td>\n",
              "    </tr>\n",
              "    <tr>\n",
              "      <th>std</th>\n",
              "      <td>1.281202</td>\n",
              "      <td>1.104803</td>\n",
              "      <td>50.364457</td>\n",
              "      <td>51.074113</td>\n",
              "      <td>1.794292</td>\n",
              "    </tr>\n",
              "    <tr>\n",
              "      <th>min</th>\n",
              "      <td>0.000000</td>\n",
              "      <td>0.000000</td>\n",
              "      <td>1.000000</td>\n",
              "      <td>1.000000</td>\n",
              "      <td>-5.000000</td>\n",
              "    </tr>\n",
              "    <tr>\n",
              "      <th>25%</th>\n",
              "      <td>0.000000</td>\n",
              "      <td>0.000000</td>\n",
              "      <td>33.000000</td>\n",
              "      <td>35.000000</td>\n",
              "      <td>-1.000000</td>\n",
              "    </tr>\n",
              "    <tr>\n",
              "      <th>50%</th>\n",
              "      <td>1.000000</td>\n",
              "      <td>1.000000</td>\n",
              "      <td>70.000000</td>\n",
              "      <td>71.000000</td>\n",
              "      <td>0.000000</td>\n",
              "    </tr>\n",
              "    <tr>\n",
              "      <th>75%</th>\n",
              "      <td>2.000000</td>\n",
              "      <td>2.000000</td>\n",
              "      <td>111.000000</td>\n",
              "      <td>113.000000</td>\n",
              "      <td>2.000000</td>\n",
              "    </tr>\n",
              "    <tr>\n",
              "      <th>max</th>\n",
              "      <td>5.000000</td>\n",
              "      <td>5.000000</td>\n",
              "      <td>209.000000</td>\n",
              "      <td>209.000000</td>\n",
              "      <td>5.000000</td>\n",
              "    </tr>\n",
              "  </tbody>\n",
              "</table>\n",
              "</div>"
            ],
            "text/plain": [
              "         home_score    away_score        rank_x        rank_y        result\n",
              "count  16157.000000  16157.000000  16157.000000  16157.000000  16157.000000\n",
              "mean       1.469023      1.029585     75.533948     77.363619      0.439438\n",
              "std        1.281202      1.104803     50.364457     51.074113      1.794292\n",
              "min        0.000000      0.000000      1.000000      1.000000     -5.000000\n",
              "25%        0.000000      0.000000     33.000000     35.000000     -1.000000\n",
              "50%        1.000000      1.000000     70.000000     71.000000      0.000000\n",
              "75%        2.000000      2.000000    111.000000    113.000000      2.000000\n",
              "max        5.000000      5.000000    209.000000    209.000000      5.000000"
            ]
          },
          "metadata": {
            "tags": []
          },
          "execution_count": 147
        }
      ]
    },
    {
      "cell_type": "code",
      "metadata": {
        "colab": {
          "base_uri": "https://localhost:8080/",
          "height": 423
        },
        "id": "iOHpq5SDp_9a",
        "outputId": "98b1f118-ddd1-4c82-b8ac-1b3096d6c630"
      },
      "source": [
        "#generating a frequency table for home_team\n",
        "fifa_final['home_team'].value_counts().to_frame()"
      ],
      "execution_count": 148,
      "outputs": [
        {
          "output_type": "execute_result",
          "data": {
            "text/html": [
              "<div>\n",
              "<style scoped>\n",
              "    .dataframe tbody tr th:only-of-type {\n",
              "        vertical-align: middle;\n",
              "    }\n",
              "\n",
              "    .dataframe tbody tr th {\n",
              "        vertical-align: top;\n",
              "    }\n",
              "\n",
              "    .dataframe thead th {\n",
              "        text-align: right;\n",
              "    }\n",
              "</style>\n",
              "<table border=\"1\" class=\"dataframe\">\n",
              "  <thead>\n",
              "    <tr style=\"text-align: right;\">\n",
              "      <th></th>\n",
              "      <th>home_team</th>\n",
              "    </tr>\n",
              "  </thead>\n",
              "  <tbody>\n",
              "    <tr>\n",
              "      <th>Mexico</th>\n",
              "      <td>238</td>\n",
              "    </tr>\n",
              "    <tr>\n",
              "      <th>Saudi Arabia</th>\n",
              "      <td>201</td>\n",
              "    </tr>\n",
              "    <tr>\n",
              "      <th>Japan</th>\n",
              "      <td>193</td>\n",
              "    </tr>\n",
              "    <tr>\n",
              "      <th>Oman</th>\n",
              "      <td>184</td>\n",
              "    </tr>\n",
              "    <tr>\n",
              "      <th>Qatar</th>\n",
              "      <td>182</td>\n",
              "    </tr>\n",
              "    <tr>\n",
              "      <th>...</th>\n",
              "      <td>...</td>\n",
              "    </tr>\n",
              "    <tr>\n",
              "      <th>Kosovo</th>\n",
              "      <td>7</td>\n",
              "    </tr>\n",
              "    <tr>\n",
              "      <th>Anguilla</th>\n",
              "      <td>6</td>\n",
              "    </tr>\n",
              "    <tr>\n",
              "      <th>Montserrat</th>\n",
              "      <td>5</td>\n",
              "    </tr>\n",
              "    <tr>\n",
              "      <th>Gibraltar</th>\n",
              "      <td>4</td>\n",
              "    </tr>\n",
              "    <tr>\n",
              "      <th>Turks and Caicos Islands</th>\n",
              "      <td>3</td>\n",
              "    </tr>\n",
              "  </tbody>\n",
              "</table>\n",
              "<p>193 rows × 1 columns</p>\n",
              "</div>"
            ],
            "text/plain": [
              "                          home_team\n",
              "Mexico                          238\n",
              "Saudi Arabia                    201\n",
              "Japan                           193\n",
              "Oman                            184\n",
              "Qatar                           182\n",
              "...                             ...\n",
              "Kosovo                            7\n",
              "Anguilla                          6\n",
              "Montserrat                        5\n",
              "Gibraltar                         4\n",
              "Turks and Caicos Islands          3\n",
              "\n",
              "[193 rows x 1 columns]"
            ]
          },
          "metadata": {
            "tags": []
          },
          "execution_count": 148
        }
      ]
    },
    {
      "cell_type": "code",
      "metadata": {
        "colab": {
          "base_uri": "https://localhost:8080/",
          "height": 423
        },
        "id": "nnivIrSupc9y",
        "outputId": "c7fc0dd8-3ab7-4efb-abff-456ff6b10ce3"
      },
      "source": [
        "#generating a frequency table for away_team\n",
        "fifa_final['away_team'].value_counts().to_frame()"
      ],
      "execution_count": 149,
      "outputs": [
        {
          "output_type": "execute_result",
          "data": {
            "text/html": [
              "<div>\n",
              "<style scoped>\n",
              "    .dataframe tbody tr th:only-of-type {\n",
              "        vertical-align: middle;\n",
              "    }\n",
              "\n",
              "    .dataframe tbody tr th {\n",
              "        vertical-align: top;\n",
              "    }\n",
              "\n",
              "    .dataframe thead th {\n",
              "        text-align: right;\n",
              "    }\n",
              "</style>\n",
              "<table border=\"1\" class=\"dataframe\">\n",
              "  <thead>\n",
              "    <tr style=\"text-align: right;\">\n",
              "      <th></th>\n",
              "      <th>away_team</th>\n",
              "    </tr>\n",
              "  </thead>\n",
              "  <tbody>\n",
              "    <tr>\n",
              "      <th>Zambia</th>\n",
              "      <td>187</td>\n",
              "    </tr>\n",
              "    <tr>\n",
              "      <th>Sweden</th>\n",
              "      <td>158</td>\n",
              "    </tr>\n",
              "    <tr>\n",
              "      <th>Paraguay</th>\n",
              "      <td>157</td>\n",
              "    </tr>\n",
              "    <tr>\n",
              "      <th>Finland</th>\n",
              "      <td>156</td>\n",
              "    </tr>\n",
              "    <tr>\n",
              "      <th>Costa Rica</th>\n",
              "      <td>155</td>\n",
              "    </tr>\n",
              "    <tr>\n",
              "      <th>...</th>\n",
              "      <td>...</td>\n",
              "    </tr>\n",
              "    <tr>\n",
              "      <th>American Samoa</th>\n",
              "      <td>6</td>\n",
              "    </tr>\n",
              "    <tr>\n",
              "      <th>Turks and Caicos Islands</th>\n",
              "      <td>6</td>\n",
              "    </tr>\n",
              "    <tr>\n",
              "      <th>Kosovo</th>\n",
              "      <td>6</td>\n",
              "    </tr>\n",
              "    <tr>\n",
              "      <th>Gibraltar</th>\n",
              "      <td>5</td>\n",
              "    </tr>\n",
              "    <tr>\n",
              "      <th>Montserrat</th>\n",
              "      <td>4</td>\n",
              "    </tr>\n",
              "  </tbody>\n",
              "</table>\n",
              "<p>193 rows × 1 columns</p>\n",
              "</div>"
            ],
            "text/plain": [
              "                          away_team\n",
              "Zambia                          187\n",
              "Sweden                          158\n",
              "Paraguay                        157\n",
              "Finland                         156\n",
              "Costa Rica                      155\n",
              "...                             ...\n",
              "American Samoa                    6\n",
              "Turks and Caicos Islands          6\n",
              "Kosovo                            6\n",
              "Gibraltar                         5\n",
              "Montserrat                        4\n",
              "\n",
              "[193 rows x 1 columns]"
            ]
          },
          "metadata": {
            "tags": []
          },
          "execution_count": 149
        }
      ]
    },
    {
      "cell_type": "code",
      "metadata": {
        "colab": {
          "base_uri": "https://localhost:8080/",
          "height": 299
        },
        "id": "eqM2sMLxqav5",
        "outputId": "117c02a4-5a33-44bc-d7a1-230902883f3c"
      },
      "source": [
        "\n",
        "# Bar graph showing tournaments\n",
        "\n",
        "fifa_final.tournament.value_counts().head(10).sort_values().plot.barh()\n",
        "plt.title('Tournaments')\n",
        "\n",
        "\n",
        "\n",
        "# Other types of tournaments are played frequently (probably yearly) whereas,\n",
        "# the worldcup has a low number of occurence since it is only played every four years"
      ],
      "execution_count": 150,
      "outputs": [
        {
          "output_type": "execute_result",
          "data": {
            "text/plain": [
              "Text(0.5, 1.0, 'Tournaments')"
            ]
          },
          "metadata": {
            "tags": []
          },
          "execution_count": 150
        },
        {
          "output_type": "display_data",
          "data": {
            "image/png": "[encoded data removed]",
            "text/plain": [
              "<Figure size 432x288 with 1 Axes>"
            ]
          },
          "metadata": {
            "tags": [],
            "needs_background": "light"
          }
        }
      ]
    },
    {
      "cell_type": "code",
      "metadata": {
        "colab": {
          "base_uri": "https://localhost:8080/",
          "height": 299
        },
        "id": "1EyiJK4Lr7Xo",
        "outputId": "0e0fac53-0cf2-4d4b-e444-06aec3b1dc02"
      },
      "source": [
        "#plotting a bar graph to show the results\n",
        "fifa_final['results'].value_counts().plot.bar(color='purple')"
      ],
      "execution_count": 151,
      "outputs": [
        {
          "output_type": "execute_result",
          "data": {
            "text/plain": [
              "<matplotlib.axes._subplots.AxesSubplot at 0x7f7b7ed06850>"
            ]
          },
          "metadata": {
            "tags": []
          },
          "execution_count": 151
        },
        {
          "output_type": "display_data",
          "data": {
            "image/png": "[encoded data removed]",
            "text/plain": [
              "<Figure size 432x288 with 1 Axes>"
            ]
          },
          "metadata": {
            "tags": [],
            "needs_background": "light"
          }
        }
      ]
    },
    {
      "cell_type": "code",
      "metadata": {
        "colab": {
          "base_uri": "https://localhost:8080/",
          "height": 264
        },
        "id": "AewfL3aGuf1d",
        "outputId": "8f62071c-39fa-4117-f1b0-a0eb2d50ba20"
      },
      "source": [
        "\n",
        "colors = ['cyan', 'pink', 'yellow']\n",
        "fifa_final['results'].value_counts().plot.pie(autopct='%1.1f%%', colors=colors, \n",
        "                                               shadow = True, startangle = 200)\n",
        "plt.title('Pie Chart of Results')\n",
        "plt.show()"
      ],
      "execution_count": 152,
      "outputs": [
        {
          "output_type": "display_data",
          "data": {
            "image/png": "[encoded data removed]",
            "text/plain": [
              "<Figure size 432x288 with 1 Axes>"
            ]
          },
          "metadata": {
            "tags": []
          }
        }
      ]
    },
    {
      "cell_type": "code",
      "metadata": {
        "colab": {
          "base_uri": "https://localhost:8080/",
          "height": 565
        },
        "id": "jnuODspHyUsx",
        "outputId": "5ee87aee-d61d-4c2b-87f1-12edf88488c0"
      },
      "source": [
        "\n",
        "# let us check the distributions of our data\n",
        "# we will use \n",
        "\n",
        "fig, axes = plt.subplots(2, 3, figsize=(18, 10))\n",
        "\n",
        "fig.suptitle('Distribution of Numerical Data')\n",
        "\n",
        "sns.distplot( fifa_final[\"home_team_rank\"] , color=\"skyblue\", ax=axes[0, 0])\n",
        "sns.distplot( fifa_final[\"home_score\"] , color=\"olive\", ax=axes[0, 1])\n",
        "sns.distplot( fifa_final[\"away_score\"] , color=\"gold\", ax=axes[0, 2])\n",
        "sns.distplot( fifa_final[\"result\"] , color=\"teal\", ax=axes[1, 0])\n",
        "sns.distplot( fifa_final[\"away_team_rank\"] , color=\"teal\", ax=axes[1, 2])\n",
        "\n",
        "# our data is normally distributed"
      ],
      "execution_count": 156,
      "outputs": [
        {
          "output_type": "execute_result",
          "data": {
            "text/plain": [
              "<matplotlib.axes._subplots.AxesSubplot at 0x7f7b7f86da50>"
            ]
          },
          "metadata": {
            "tags": []
          },
          "execution_count": 156
        },
        {
          "output_type": "display_data",
          "data": {
            "image/png": "[encoded data removed]",
            "text/plain": [
              "<Figure size 1296x720 with 6 Axes>"
            ]
          },
          "metadata": {
            "tags": [],
            "needs_background": "light"
          }
        }
      ]
    },
    {
      "cell_type": "markdown",
      "metadata": {
        "id": "pK9ySHJN2eFR"
      },
      "source": [
        "**Numerical Variables**\n"
      ]
    },
    {
      "cell_type": "markdown",
      "metadata": {
        "id": "ATQ_5C1T3h0Q"
      },
      "source": [
        "**Measures of Dispersion**\n"
      ]
    },
    {
      "cell_type": "code",
      "metadata": {
        "colab": {
          "base_uri": "https://localhost:8080/"
        },
        "id": "TOwJ-jun2TBH",
        "outputId": "329f81ba-b1d5-4886-a18d-1ea33723eed5"
      },
      "source": [
        "fifa_final['home_score'].std()"
      ],
      "execution_count": 157,
      "outputs": [
        {
          "output_type": "execute_result",
          "data": {
            "text/plain": [
              "1.2812024390453602"
            ]
          },
          "metadata": {
            "tags": []
          },
          "execution_count": 157
        }
      ]
    },
    {
      "cell_type": "code",
      "metadata": {
        "colab": {
          "base_uri": "https://localhost:8080/"
        },
        "id": "XfRbZfsa3s0N",
        "outputId": "6caade92-fbb4-4f82-c461-810c0dcb4e86"
      },
      "source": [
        "fifa_final['away_score'].std()"
      ],
      "execution_count": 158,
      "outputs": [
        {
          "output_type": "execute_result",
          "data": {
            "text/plain": [
              "1.1048033312209988"
            ]
          },
          "metadata": {
            "tags": []
          },
          "execution_count": 158
        }
      ]
    },
    {
      "cell_type": "code",
      "metadata": {
        "colab": {
          "base_uri": "https://localhost:8080/"
        },
        "id": "H0yhRS8a3w1e",
        "outputId": "b8ee1663-7caf-45c8-c3a9-0c5c5f6f1151"
      },
      "source": [
        "fifa_final['home_score'].var()"
      ],
      "execution_count": 159,
      "outputs": [
        {
          "output_type": "execute_result",
          "data": {
            "text/plain": [
              "1.64147968981578"
            ]
          },
          "metadata": {
            "tags": []
          },
          "execution_count": 159
        }
      ]
    },
    {
      "cell_type": "code",
      "metadata": {
        "colab": {
          "base_uri": "https://localhost:8080/"
        },
        "id": "8K6jO2Py3yns",
        "outputId": "8476823b-0bbe-4ecb-88cd-77a99c3ae028"
      },
      "source": [
        "fifa_final['away_score'].var()"
      ],
      "execution_count": 160,
      "outputs": [
        {
          "output_type": "execute_result",
          "data": {
            "text/plain": [
              "1.220590400677016"
            ]
          },
          "metadata": {
            "tags": []
          },
          "execution_count": 160
        }
      ]
    },
    {
      "cell_type": "code",
      "metadata": {
        "colab": {
          "base_uri": "https://localhost:8080/"
        },
        "id": "9nzasCwe36bx",
        "outputId": "c8669eea-a4f9-4d07-8786-759b9bf47364"
      },
      "source": [
        "fifa_final['home_score'].kurt()"
      ],
      "execution_count": 161,
      "outputs": [
        {
          "output_type": "execute_result",
          "data": {
            "text/plain": [
              "-0.000556469544579663"
            ]
          },
          "metadata": {
            "tags": []
          },
          "execution_count": 161
        }
      ]
    },
    {
      "cell_type": "code",
      "metadata": {
        "colab": {
          "base_uri": "https://localhost:8080/"
        },
        "id": "eIY7oEiz38wD",
        "outputId": "ec6f9a37-7334-4449-ad63-c2332d0d23ac"
      },
      "source": [
        "fifa_final['away_score'].kurt()"
      ],
      "execution_count": 162,
      "outputs": [
        {
          "output_type": "execute_result",
          "data": {
            "text/plain": [
              "1.004978788236814"
            ]
          },
          "metadata": {
            "tags": []
          },
          "execution_count": 162
        }
      ]
    },
    {
      "cell_type": "code",
      "metadata": {
        "colab": {
          "base_uri": "https://localhost:8080/",
          "height": 281
        },
        "id": "ksuRtU7k4WTG",
        "outputId": "0fabaa75-ae13-4970-bcb1-c7f881ff978e"
      },
      "source": [
        "#Histogram of home scores\n",
        "plt.figure(figsize = [6,4])\n",
        "plt.hist(fifa_final['home_score'])\n",
        "plt.title('Histogram of Home Scores')\n",
        "plt.show()"
      ],
      "execution_count": 163,
      "outputs": [
        {
          "output_type": "display_data",
          "data": {
            "image/png": "[encoded data removed]",
            "text/plain": [
              "<Figure size 432x288 with 1 Axes>"
            ]
          },
          "metadata": {
            "tags": [],
            "needs_background": "light"
          }
        }
      ]
    },
    {
      "cell_type": "code",
      "metadata": {
        "colab": {
          "base_uri": "https://localhost:8080/",
          "height": 281
        },
        "id": "SSP2OXW24YNf",
        "outputId": "952b8fec-0b3a-4bb0-ca9b-5fe048347ce1"
      },
      "source": [
        "#Histogram of home scores\n",
        "plt.figure(figsize = [6,4])\n",
        "plt.hist(fifa_final['away_score'])\n",
        "plt.title('Histogram ofAway Scores')\n",
        "plt.show()"
      ],
      "execution_count": 164,
      "outputs": [
        {
          "output_type": "display_data",
          "data": {
            "image/png": "[encoded data removed]",
            "text/plain": [
              "<Figure size 432x288 with 1 Axes>"
            ]
          },
          "metadata": {
            "tags": [],
            "needs_background": "light"
          }
        }
      ]
    },
    {
      "cell_type": "markdown",
      "metadata": {
        "id": "eHaumg5b5BU_"
      },
      "source": [
        "**Bivariate Analysis**"
      ]
    },
    {
      "cell_type": "code",
      "metadata": {
        "colab": {
          "base_uri": "https://localhost:8080/",
          "height": 873
        },
        "id": "IeTL-UB649e-",
        "outputId": "9d659ea2-ddb8-49f9-8228-a34c5ad33ba6"
      },
      "source": [
        "\n",
        "# Ploting the bivariate summaries and recording our observations\n",
        "sns.pairplot(fifa_final)\n",
        "plt.show()"
      ],
      "execution_count": 165,
      "outputs": [
        {
          "output_type": "display_data",
          "data": {
            "image/png": "[encoded data removed]",
            "text/plain": [
              "<Figure size 900x900 with 30 Axes>"
            ]
          },
          "metadata": {
            "tags": [],
            "needs_background": "light"
          }
        }
      ]
    },
    {
      "cell_type": "code",
      "metadata": {
        "colab": {
          "base_uri": "https://localhost:8080/",
          "height": 505
        },
        "id": "X8tr28G75UB3",
        "outputId": "3e7b6a08-0897-4103-e8ea-a15c0869436a"
      },
      "source": [
        "\n",
        "# Calculating the pearson coefficient correlation\n",
        "a = fifa_final.corr() \n",
        "plt.figure(figsize = (20,10))\n",
        "sns.heatmap(a, xticklabels=a.columns, yticklabels=a.columns, annot=True)\n",
        "plt.title('A Heatmap of Pearson Correlation in our Dataset')\n",
        "plt.show()"
      ],
      "execution_count": 166,
      "outputs": [
        {
          "output_type": "display_data",
          "data": {
            "image/png": "[encoded data removed]",
            "text/plain": [
              "<Figure size 1440x720 with 2 Axes>"
            ]
          },
          "metadata": {
            "tags": [],
            "needs_background": "light"
          }
        }
      ]
    },
    {
      "cell_type": "markdown",
      "metadata": {
        "id": "5nwE7T9j5sW_"
      },
      "source": [
        "**Categorical and Numerical**"
      ]
    },
    {
      "cell_type": "code",
      "metadata": {
        "colab": {
          "base_uri": "https://localhost:8080/",
          "height": 423
        },
        "id": "Lw6Z57A-5-6T",
        "outputId": "f87e9e85-eb9c-4eab-b9d2-0b4a4b34fb41"
      },
      "source": [
        "plt.figure(figsize=(10,6))\n",
        "sns.countplot('home_score', hue='results', data=fifa_final)\n",
        "plt.legend(loc=\"upper right\")\n",
        "plt.title('Home Score vs Results')"
      ],
      "execution_count": 167,
      "outputs": [
        {
          "output_type": "execute_result",
          "data": {
            "text/plain": [
              "Text(0.5, 1.0, 'Home Score vs Results')"
            ]
          },
          "metadata": {
            "tags": []
          },
          "execution_count": 167
        },
        {
          "output_type": "display_data",
          "data": {
            "image/png": "[encoded data removed]",
            "text/plain": [
              "<Figure size 720x432 with 1 Axes>"
            ]
          },
          "metadata": {
            "tags": [],
            "needs_background": "light"
          }
        }
      ]
    },
    {
      "cell_type": "code",
      "metadata": {
        "colab": {
          "base_uri": "https://localhost:8080/",
          "height": 421
        },
        "id": "ob7yr-Fa6Fbl",
        "outputId": "f33eeb47-7aad-4322-9961-18f79c9ab49c"
      },
      "source": [
        "\n",
        "plt.figure(figsize=(10,6))\n",
        "sns.countplot('away_score', hue='results', data=fifa_final)\n",
        "plt.legend(loc=\"upper right\")\n",
        "plt.title('Away Score vs Results')"
      ],
      "execution_count": 168,
      "outputs": [
        {
          "output_type": "execute_result",
          "data": {
            "text/plain": [
              "Text(0.5, 1.0, 'Away Score vs Results')"
            ]
          },
          "metadata": {
            "tags": []
          },
          "execution_count": 168
        },
        {
          "output_type": "display_data",
          "data": {
            "image/png": "[encoded data removed]",
            "text/plain": [
              "<Figure size 720x432 with 1 Axes>"
            ]
          },
          "metadata": {
            "tags": [],
            "needs_background": "light"
          }
        }
      ]
    },
    {
      "cell_type": "markdown",
      "metadata": {
        "id": "DoLM1cIw6W5v"
      },
      "source": [
        "# **6.Predictive Analysis**"
      ]
    },
    {
      "cell_type": "markdown",
      "metadata": {
        "id": "Zidnn7Nx7LYn"
      },
      "source": [
        "**1.Polynomial Regression**"
      ]
    },
    {
      "cell_type": "markdown",
      "metadata": {
        "id": "wdIMUe5_7dEX"
      },
      "source": [
        "**Predicing Home Team Scores**"
      ]
    },
    {
      "cell_type": "code",
      "metadata": {
        "id": "u9tkSt9_6LHH"
      },
      "source": [
        "\n",
        "#Importing the libraries we are going to use\n",
        "\n",
        "from sklearn.preprocessing import PolynomialFeatures\n",
        "from sklearn.model_selection import train_test_split\n",
        "from sklearn.linear_model import LinearRegression"
      ],
      "execution_count": 170,
      "outputs": []
    },
    {
      "cell_type": "code",
      "metadata": {
        "id": "MEHN3m0VAkJZ"
      },
      "source": [
        "from sklearn.preprocessing import LabelEncoder\n",
        "le=LabelEncoder()\n",
        "fifa_final['tournament'] =le.fit_transform(fifa_final['tournament'])"
      ],
      "execution_count": 171,
      "outputs": []
    },
    {
      "cell_type": "code",
      "metadata": {
        "id": "7Q77oAsVB4i6"
      },
      "source": [
        "#Declaring our dependent and independent variables\n",
        "X = fifa_final[['home_team_rank','away_team_rank','tournament']].values\n",
        "y = fifa_final['home_score'].values"
      ],
      "execution_count": 172,
      "outputs": []
    },
    {
      "cell_type": "code",
      "metadata": {
        "colab": {
          "base_uri": "https://localhost:8080/",
          "height": 143
        },
        "id": "8M20tmRVDYLb",
        "outputId": "87759db9-8946-4a49-a11b-1c01dafb5fb0"
      },
      "source": [
        "# Displaying the correlations between the variables\n",
        "# we exclude the home score since it is our target variable\n",
        "correlations= fifa_final[['home_team_rank','away_team_rank','tournament']].corr()\n",
        "correlations\n"
      ],
      "execution_count": 175,
      "outputs": [
        {
          "output_type": "execute_result",
          "data": {
            "text/html": [
              "<div>\n",
              "<style scoped>\n",
              "    .dataframe tbody tr th:only-of-type {\n",
              "        vertical-align: middle;\n",
              "    }\n",
              "\n",
              "    .dataframe tbody tr th {\n",
              "        vertical-align: top;\n",
              "    }\n",
              "\n",
              "    .dataframe thead th {\n",
              "        text-align: right;\n",
              "    }\n",
              "</style>\n",
              "<table border=\"1\" class=\"dataframe\">\n",
              "  <thead>\n",
              "    <tr style=\"text-align: right;\">\n",
              "      <th></th>\n",
              "      <th>home_team_rank</th>\n",
              "      <th>away_team_rank</th>\n",
              "      <th>tournament</th>\n",
              "    </tr>\n",
              "  </thead>\n",
              "  <tbody>\n",
              "    <tr>\n",
              "      <th>home_team_rank</th>\n",
              "      <td>1.000000</td>\n",
              "      <td>0.487638</td>\n",
              "      <td>0.025313</td>\n",
              "    </tr>\n",
              "    <tr>\n",
              "      <th>away_team_rank</th>\n",
              "      <td>0.487638</td>\n",
              "      <td>1.000000</td>\n",
              "      <td>0.005498</td>\n",
              "    </tr>\n",
              "    <tr>\n",
              "      <th>tournament</th>\n",
              "      <td>0.025313</td>\n",
              "      <td>0.005498</td>\n",
              "      <td>1.000000</td>\n",
              "    </tr>\n",
              "  </tbody>\n",
              "</table>\n",
              "</div>"
            ],
            "text/plain": [
              "                home_team_rank  away_team_rank  tournament\n",
              "home_team_rank        1.000000        0.487638    0.025313\n",
              "away_team_rank        0.487638        1.000000    0.005498\n",
              "tournament            0.025313        0.005498    1.000000"
            ]
          },
          "metadata": {
            "tags": []
          },
          "execution_count": 175
        }
      ]
    },
    {
      "cell_type": "markdown",
      "metadata": {
        "id": "Mn_8v-ziFItR"
      },
      "source": [
        "Multicollinearity occurs when there are two or more independent variables in a multiple regression model, which have a high correlation among themselves. When some features are highly correlated, we could have a difficulty distinguishing between their individual effects on the dependent variable. Multicollinearity can be detected using various techniques, one such technique being the Variance Inflation Factor(VIF)."
      ]
    },
    {
      "cell_type": "code",
      "metadata": {
        "colab": {
          "base_uri": "https://localhost:8080/",
          "height": 143
        },
        "id": "JtkHjMCLJqON",
        "outputId": "858f659c-1a34-4e16-91b7-f7f3228a778a"
      },
      "source": [
        "\n",
        "correlations= fifa_final[['home_team_rank','away_team_rank','tournament']].corr()\n",
        "correlations"
      ],
      "execution_count": 180,
      "outputs": [
        {
          "output_type": "execute_result",
          "data": {
            "text/html": [
              "<div>\n",
              "<style scoped>\n",
              "    .dataframe tbody tr th:only-of-type {\n",
              "        vertical-align: middle;\n",
              "    }\n",
              "\n",
              "    .dataframe tbody tr th {\n",
              "        vertical-align: top;\n",
              "    }\n",
              "\n",
              "    .dataframe thead th {\n",
              "        text-align: right;\n",
              "    }\n",
              "</style>\n",
              "<table border=\"1\" class=\"dataframe\">\n",
              "  <thead>\n",
              "    <tr style=\"text-align: right;\">\n",
              "      <th></th>\n",
              "      <th>home_team_rank</th>\n",
              "      <th>away_team_rank</th>\n",
              "      <th>tournament</th>\n",
              "    </tr>\n",
              "  </thead>\n",
              "  <tbody>\n",
              "    <tr>\n",
              "      <th>home_team_rank</th>\n",
              "      <td>1.000000</td>\n",
              "      <td>0.487638</td>\n",
              "      <td>0.025313</td>\n",
              "    </tr>\n",
              "    <tr>\n",
              "      <th>away_team_rank</th>\n",
              "      <td>0.487638</td>\n",
              "      <td>1.000000</td>\n",
              "      <td>0.005498</td>\n",
              "    </tr>\n",
              "    <tr>\n",
              "      <th>tournament</th>\n",
              "      <td>0.025313</td>\n",
              "      <td>0.005498</td>\n",
              "      <td>1.000000</td>\n",
              "    </tr>\n",
              "  </tbody>\n",
              "</table>\n",
              "</div>"
            ],
            "text/plain": [
              "                home_team_rank  away_team_rank  tournament\n",
              "home_team_rank        1.000000        0.487638    0.025313\n",
              "away_team_rank        0.487638        1.000000    0.005498\n",
              "tournament            0.025313        0.005498    1.000000"
            ]
          },
          "metadata": {
            "tags": []
          },
          "execution_count": 180
        }
      ]
    },
    {
      "cell_type": "markdown",
      "metadata": {
        "id": "QWq2yJ9sb1Sw"
      },
      "source": [
        "\n",
        "VIF exceeding 5 or 10 indicates high multicollinearity between independent variables. our variables do not exceed 5 hence we conclude that there is no multicollinearity between our independent variables."
      ]
    },
    {
      "cell_type": "code",
      "metadata": {
        "id": "l7OghimAZMHH"
      },
      "source": [
        "#Splitting the data into train and test tests\n",
        "\n",
        "X_train,X_test,y_train,y_test = train_test_split(X,y, test_size =0.3,random_state=42)"
      ],
      "execution_count": 185,
      "outputs": []
    },
    {
      "cell_type": "code",
      "metadata": {
        "colab": {
          "base_uri": "https://localhost:8080/"
        },
        "id": "UUVadcPtZWIa",
        "outputId": "6e1b97cd-8393-4b3e-e3f6-0519d1037691"
      },
      "source": [
        "# Fit polynomial Regression to the dataset\n",
        "poly_reg = PolynomialFeatures(degree = 4) \n",
        "X_poly = poly_reg.fit_transform(X)\n",
        "\n",
        "pol_reg = LinearRegression()\n",
        "pol_reg.fit(X_poly, y)"
      ],
      "execution_count": 186,
      "outputs": [
        {
          "output_type": "execute_result",
          "data": {
            "text/plain": [
              "LinearRegression(copy_X=True, fit_intercept=True, n_jobs=None, normalize=False)"
            ]
          },
          "metadata": {
            "tags": []
          },
          "execution_count": 186
        }
      ]
    },
    {
      "cell_type": "code",
      "metadata": {
        "colab": {
          "base_uri": "https://localhost:8080/"
        },
        "id": "YCZVSGm8aycS",
        "outputId": "75aa04a7-481d-4024-afcf-d47e4e982c7c"
      },
      "source": [
        "# Running the prediction\n",
        "y_pred = pol_reg.predict(X_poly)\n",
        "y_pred"
      ],
      "execution_count": 187,
      "outputs": [
        {
          "output_type": "execute_result",
          "data": {
            "text/plain": [
              "array([2.0850204 , 1.12856973, 2.12209598, ..., 1.05346781, 1.23963237,\n",
              "       1.04355294])"
            ]
          },
          "metadata": {
            "tags": []
          },
          "execution_count": 187
        }
      ]
    },
    {
      "cell_type": "code",
      "metadata": {
        "colab": {
          "base_uri": "https://localhost:8080/"
        },
        "id": "cac4Nh2ea1ci",
        "outputId": "5e1dc433-08f2-4f57-ece1-16a1ca8e16c0"
      },
      "source": [
        "# evaluating our model\n",
        "from sklearn import metrics\n",
        "from sklearn.metrics import mean_squared_error, r2_score\n",
        "rmse = np.sqrt(mean_squared_error(y, y_pred))\n",
        "r2 = r2_score(y, y_pred)\n",
        "print(rmse)\n",
        "print(r2)"
      ],
      "execution_count": 188,
      "outputs": [
        {
          "output_type": "stream",
          "text": [
            "1.1514564593907666\n",
            "0.19223244021346542\n"
          ],
          "name": "stdout"
        }
      ]
    },
    {
      "cell_type": "markdown",
      "metadata": {
        "id": "eGS3eLE0bF-a"
      },
      "source": [
        "\n",
        "Our model yields an RMSE of 1.15 and our R2 is 19%.The RMSE is almost the value of the mean of our target variable hence we might need to reevaluate our model and redefine our independent variables."
      ]
    },
    {
      "cell_type": "markdown",
      "metadata": {
        "id": "XzSYjAYzdvAf"
      },
      "source": [
        "**Predicting Away Team Scores**"
      ]
    },
    {
      "cell_type": "code",
      "metadata": {
        "colab": {
          "base_uri": "https://localhost:8080/",
          "height": 300
        },
        "id": "bPTiIonwfQmx",
        "outputId": "9d038a75-0401-4e41-9a3b-ec9e62079d97"
      },
      "source": [
        "fifa_final.describe()"
      ],
      "execution_count": 202,
      "outputs": [
        {
          "output_type": "execute_result",
          "data": {
            "text/html": [
              "<div>\n",
              "<style scoped>\n",
              "    .dataframe tbody tr th:only-of-type {\n",
              "        vertical-align: middle;\n",
              "    }\n",
              "\n",
              "    .dataframe tbody tr th {\n",
              "        vertical-align: top;\n",
              "    }\n",
              "\n",
              "    .dataframe thead th {\n",
              "        text-align: right;\n",
              "    }\n",
              "</style>\n",
              "<table border=\"1\" class=\"dataframe\">\n",
              "  <thead>\n",
              "    <tr style=\"text-align: right;\">\n",
              "      <th></th>\n",
              "      <th>home_score</th>\n",
              "      <th>away_score</th>\n",
              "      <th>tournament</th>\n",
              "      <th>home_team_rank</th>\n",
              "      <th>away_team_rank</th>\n",
              "      <th>result</th>\n",
              "    </tr>\n",
              "  </thead>\n",
              "  <tbody>\n",
              "    <tr>\n",
              "      <th>count</th>\n",
              "      <td>16157.000000</td>\n",
              "      <td>16157.000000</td>\n",
              "      <td>16157.000000</td>\n",
              "      <td>16157.000000</td>\n",
              "      <td>16157.000000</td>\n",
              "      <td>16157.000000</td>\n",
              "    </tr>\n",
              "    <tr>\n",
              "      <th>mean</th>\n",
              "      <td>1.469023</td>\n",
              "      <td>1.029585</td>\n",
              "      <td>0.858266</td>\n",
              "      <td>75.533948</td>\n",
              "      <td>77.363619</td>\n",
              "      <td>0.439438</td>\n",
              "    </tr>\n",
              "    <tr>\n",
              "      <th>std</th>\n",
              "      <td>1.281202</td>\n",
              "      <td>1.104803</td>\n",
              "      <td>0.777302</td>\n",
              "      <td>50.364457</td>\n",
              "      <td>51.074113</td>\n",
              "      <td>1.794292</td>\n",
              "    </tr>\n",
              "    <tr>\n",
              "      <th>min</th>\n",
              "      <td>0.000000</td>\n",
              "      <td>0.000000</td>\n",
              "      <td>0.000000</td>\n",
              "      <td>1.000000</td>\n",
              "      <td>1.000000</td>\n",
              "      <td>-5.000000</td>\n",
              "    </tr>\n",
              "    <tr>\n",
              "      <th>25%</th>\n",
              "      <td>0.000000</td>\n",
              "      <td>0.000000</td>\n",
              "      <td>0.000000</td>\n",
              "      <td>33.000000</td>\n",
              "      <td>35.000000</td>\n",
              "      <td>-1.000000</td>\n",
              "    </tr>\n",
              "    <tr>\n",
              "      <th>50%</th>\n",
              "      <td>1.000000</td>\n",
              "      <td>1.000000</td>\n",
              "      <td>1.000000</td>\n",
              "      <td>70.000000</td>\n",
              "      <td>71.000000</td>\n",
              "      <td>0.000000</td>\n",
              "    </tr>\n",
              "    <tr>\n",
              "      <th>75%</th>\n",
              "      <td>2.000000</td>\n",
              "      <td>2.000000</td>\n",
              "      <td>1.000000</td>\n",
              "      <td>111.000000</td>\n",
              "      <td>113.000000</td>\n",
              "      <td>2.000000</td>\n",
              "    </tr>\n",
              "    <tr>\n",
              "      <th>max</th>\n",
              "      <td>5.000000</td>\n",
              "      <td>5.000000</td>\n",
              "      <td>2.000000</td>\n",
              "      <td>209.000000</td>\n",
              "      <td>209.000000</td>\n",
              "      <td>5.000000</td>\n",
              "    </tr>\n",
              "  </tbody>\n",
              "</table>\n",
              "</div>"
            ],
            "text/plain": [
              "         home_score    away_score  ...  away_team_rank        result\n",
              "count  16157.000000  16157.000000  ...    16157.000000  16157.000000\n",
              "mean       1.469023      1.029585  ...       77.363619      0.439438\n",
              "std        1.281202      1.104803  ...       51.074113      1.794292\n",
              "min        0.000000      0.000000  ...        1.000000     -5.000000\n",
              "25%        0.000000      0.000000  ...       35.000000     -1.000000\n",
              "50%        1.000000      1.000000  ...       71.000000      0.000000\n",
              "75%        2.000000      2.000000  ...      113.000000      2.000000\n",
              "max        5.000000      5.000000  ...      209.000000      5.000000\n",
              "\n",
              "[8 rows x 6 columns]"
            ]
          },
          "metadata": {
            "tags": []
          },
          "execution_count": 202
        }
      ]
    },
    {
      "cell_type": "code",
      "metadata": {
        "id": "eO9N-dn3dqAZ"
      },
      "source": [
        "#Defining our dependent and independent variables\n",
        "X = fifa_final[['home_team_rank','away_team_rank','tournament']].values\n",
        "y = fifa_final['away_score'].values"
      ],
      "execution_count": 195,
      "outputs": []
    },
    {
      "cell_type": "code",
      "metadata": {
        "id": "4-pRI2raeRj1"
      },
      "source": [
        "#Splitting the data into train and test tests\n",
        "\n",
        "X_train,X_test,y_train,y_test = train_test_split(X,y, test_size =0.3,random_state=42)"
      ],
      "execution_count": 196,
      "outputs": []
    },
    {
      "cell_type": "code",
      "metadata": {
        "id": "qmmFaiZweWhw"
      },
      "source": [
        "# Fit polynomial Regression to the dataset\n",
        "poly_reg = PolynomialFeatures(degree = 2) \n",
        "X_poly = poly_reg.fit_transform(X)\n"
      ],
      "execution_count": 197,
      "outputs": []
    },
    {
      "cell_type": "code",
      "metadata": {
        "colab": {
          "base_uri": "https://localhost:8080/"
        },
        "id": "2vU7kGRgedAt",
        "outputId": "0349f049-657b-4633-fed8-d2770f15ee9f"
      },
      "source": [
        "#Training the Model\n",
        "pol_reg = LinearRegression()\n",
        "pol_reg.fit(X_poly, y)"
      ],
      "execution_count": 198,
      "outputs": [
        {
          "output_type": "execute_result",
          "data": {
            "text/plain": [
              "LinearRegression(copy_X=True, fit_intercept=True, n_jobs=None, normalize=False)"
            ]
          },
          "metadata": {
            "tags": []
          },
          "execution_count": 198
        }
      ]
    },
    {
      "cell_type": "code",
      "metadata": {
        "id": "vEoks3p3efzc"
      },
      "source": [
        "#Making Predictions\n",
        "y_pred = pol_reg.predict(poly_reg.fit_transform(X_test))"
      ],
      "execution_count": 199,
      "outputs": []
    },
    {
      "cell_type": "code",
      "metadata": {
        "colab": {
          "base_uri": "https://localhost:8080/"
        },
        "id": "dn0rT17eekUD",
        "outputId": "fee86037-e771-45b7-b1ef-efb7265f4513"
      },
      "source": [
        "#Measuring the accuracy of the model\n",
        "\n",
        "from sklearn import metrics\n",
        "print('Mean Absolute Error:', metrics.mean_absolute_error(y_test, y_pred))  \n",
        "print('Mean Squared Error:', metrics.mean_squared_error(y_test, y_pred))  \n",
        "print('Root Mean Squared Error:', np.sqrt(metrics.mean_squared_error(y_test, y_pred)))"
      ],
      "execution_count": 200,
      "outputs": [
        {
          "output_type": "stream",
          "text": [
            "Mean Absolute Error: 0.8144795277752875\n",
            "Mean Squared Error: 1.0713536289108725\n",
            "Root Mean Squared Error: 1.0350621377052067\n"
          ],
          "name": "stdout"
        }
      ]
    },
    {
      "cell_type": "code",
      "metadata": {
        "colab": {
          "base_uri": "https://localhost:8080/"
        },
        "id": "BlYOlvrtfDnt",
        "outputId": "9884f294-6bca-4b68-a46f-d6a443d72064"
      },
      "source": [
        "# We now create the residual by substracting the test value from the predicted \n",
        "# value for each row in our dataset\n",
        "\n",
        "residuals = np.subtract(y_pred, y_test)\n",
        "\n",
        "# Let's describe our residual:\n",
        "pd.DataFrame(residuals).describe()\n",
        "\n",
        "residuals.mean()"
      ],
      "execution_count": 203,
      "outputs": [
        {
          "output_type": "execute_result",
          "data": {
            "text/plain": [
              "0.001046365280209389"
            ]
          },
          "metadata": {
            "tags": []
          },
          "execution_count": 203
        }
      ]
    },
    {
      "cell_type": "code",
      "metadata": {
        "colab": {
          "base_uri": "https://localhost:8080/",
          "height": 280
        },
        "id": "14_UZFeTfsQn",
        "outputId": "f20588c5-2c48-4112-92f0-09257433c0b5"
      },
      "source": [
        "import matplotlib.pyplot as plt\n",
        "\n",
        "plt.scatter(y_pred, residuals, color='blue')\n",
        "plt.ylabel('residual')\n",
        "plt.xlabel('fitted values')\n",
        "plt.axhline(y= residuals.mean(), color='red', linewidth=1)\n",
        "plt.show()"
      ],
      "execution_count": 204,
      "outputs": [
        {
          "output_type": "display_data",
          "data": {
            "image/png": "[encoded data removed]",
            "text/plain": [
              "<Figure size 432x288 with 1 Axes>"
            ]
          },
          "metadata": {
            "tags": [],
            "needs_background": "light"
          }
        }
      ]
    },
    {
      "cell_type": "markdown",
      "metadata": {
        "id": "McZEyuoSh_7s"
      },
      "source": [
        "From the scatter plot,the line of best fit does not cover most of the points hence we may need to reevaluate our model and redefine our independent variables."
      ]
    },
    {
      "cell_type": "markdown",
      "metadata": {
        "id": "iYjl-aVXi6Ky"
      },
      "source": [
        "**2.Logistic Regression**"
      ]
    },
    {
      "cell_type": "code",
      "metadata": {
        "colab": {
          "base_uri": "https://localhost:8080/",
          "height": 299
        },
        "id": "AttbwK7ih0Ue",
        "outputId": "1e17bd24-3de7-4dfb-9038-3876ce2de4e3"
      },
      "source": [
        "# Checking that our target variable is binary\n",
        "sns.countplot(x='results',data=fifa_final, palette='husl')"
      ],
      "execution_count": 206,
      "outputs": [
        {
          "output_type": "execute_result",
          "data": {
            "text/plain": [
              "<matplotlib.axes._subplots.AxesSubplot at 0x7f7b6f313c50>"
            ]
          },
          "metadata": {
            "tags": []
          },
          "execution_count": 206
        },
        {
          "output_type": "display_data",
          "data": {
            "image/png": "[encoded data removed]",
            "text/plain": [
              "<Figure size 432x288 with 1 Axes>"
            ]
          },
          "metadata": {
            "tags": [],
            "needs_background": "light"
          }
        }
      ]
    },
    {
      "cell_type": "code",
      "metadata": {
        "colab": {
          "base_uri": "https://localhost:8080/",
          "height": 313
        },
        "id": "t_eyhTKsjvQg",
        "outputId": "b41b6731-2993-4147-8084-7eedb8ff7511"
      },
      "source": [
        "fifa_final.head()"
      ],
      "execution_count": 207,
      "outputs": [
        {
          "output_type": "execute_result",
          "data": {
            "text/html": [
              "<div>\n",
              "<style scoped>\n",
              "    .dataframe tbody tr th:only-of-type {\n",
              "        vertical-align: middle;\n",
              "    }\n",
              "\n",
              "    .dataframe tbody tr th {\n",
              "        vertical-align: top;\n",
              "    }\n",
              "\n",
              "    .dataframe thead th {\n",
              "        text-align: right;\n",
              "    }\n",
              "</style>\n",
              "<table border=\"1\" class=\"dataframe\">\n",
              "  <thead>\n",
              "    <tr style=\"text-align: right;\">\n",
              "      <th></th>\n",
              "      <th>date</th>\n",
              "      <th>home_team</th>\n",
              "      <th>away_team</th>\n",
              "      <th>home_score</th>\n",
              "      <th>away_score</th>\n",
              "      <th>tournament</th>\n",
              "      <th>home_team_rank</th>\n",
              "      <th>away_team_rank</th>\n",
              "      <th>result</th>\n",
              "      <th>results</th>\n",
              "    </tr>\n",
              "  </thead>\n",
              "  <tbody>\n",
              "    <tr>\n",
              "      <th>0</th>\n",
              "      <td>1993-08</td>\n",
              "      <td>Colombia</td>\n",
              "      <td>Paraguay</td>\n",
              "      <td>0</td>\n",
              "      <td>0</td>\n",
              "      <td>2</td>\n",
              "      <td>19</td>\n",
              "      <td>67</td>\n",
              "      <td>0</td>\n",
              "      <td>draw</td>\n",
              "    </tr>\n",
              "    <tr>\n",
              "      <th>1</th>\n",
              "      <td>1993-08</td>\n",
              "      <td>Colombia</td>\n",
              "      <td>Argentina</td>\n",
              "      <td>2</td>\n",
              "      <td>1</td>\n",
              "      <td>2</td>\n",
              "      <td>19</td>\n",
              "      <td>5</td>\n",
              "      <td>1</td>\n",
              "      <td>win</td>\n",
              "    </tr>\n",
              "    <tr>\n",
              "      <th>2</th>\n",
              "      <td>1993-08</td>\n",
              "      <td>Colombia</td>\n",
              "      <td>Peru</td>\n",
              "      <td>4</td>\n",
              "      <td>0</td>\n",
              "      <td>2</td>\n",
              "      <td>19</td>\n",
              "      <td>70</td>\n",
              "      <td>4</td>\n",
              "      <td>win</td>\n",
              "    </tr>\n",
              "    <tr>\n",
              "      <th>3</th>\n",
              "      <td>1993-08</td>\n",
              "      <td>Peru</td>\n",
              "      <td>Argentina</td>\n",
              "      <td>0</td>\n",
              "      <td>1</td>\n",
              "      <td>2</td>\n",
              "      <td>70</td>\n",
              "      <td>5</td>\n",
              "      <td>-1</td>\n",
              "      <td>loss</td>\n",
              "    </tr>\n",
              "    <tr>\n",
              "      <th>4</th>\n",
              "      <td>1993-08</td>\n",
              "      <td>Peru</td>\n",
              "      <td>Colombia</td>\n",
              "      <td>0</td>\n",
              "      <td>1</td>\n",
              "      <td>2</td>\n",
              "      <td>70</td>\n",
              "      <td>19</td>\n",
              "      <td>-1</td>\n",
              "      <td>loss</td>\n",
              "    </tr>\n",
              "  </tbody>\n",
              "</table>\n",
              "</div>"
            ],
            "text/plain": [
              "      date home_team  away_team  ...  away_team_rank  result  results\n",
              "0  1993-08  Colombia   Paraguay  ...              67       0     draw\n",
              "1  1993-08  Colombia  Argentina  ...               5       1      win\n",
              "2  1993-08  Colombia       Peru  ...              70       4      win\n",
              "3  1993-08      Peru  Argentina  ...               5      -1     loss\n",
              "4  1993-08      Peru   Colombia  ...              19      -1     loss\n",
              "\n",
              "[5 rows x 10 columns]"
            ]
          },
          "metadata": {
            "tags": []
          },
          "execution_count": 207
        }
      ]
    },
    {
      "cell_type": "code",
      "metadata": {
        "colab": {
          "base_uri": "https://localhost:8080/",
          "height": 512
        },
        "id": "wrq-E02Zj1Lk",
        "outputId": "7050185e-8750-4409-93a9-849782cd247a"
      },
      "source": [
        "# Checking for independence between features¶\n",
        "# \n",
        "plt.figure(figsize = (20,10))\n",
        "sns.heatmap(fifa_final.corr(), annot=True)"
      ],
      "execution_count": 208,
      "outputs": [
        {
          "output_type": "execute_result",
          "data": {
            "text/plain": [
              "<matplotlib.axes._subplots.AxesSubplot at 0x7f7b723a2710>"
            ]
          },
          "metadata": {
            "tags": []
          },
          "execution_count": 208
        },
        {
          "output_type": "display_data",
          "data": {
            "image/png": "[encoded data removed]",
            "text/plain": [
              "<Figure size 1440x720 with 2 Axes>"
            ]
          },
          "metadata": {
            "tags": [],
            "needs_background": "light"
          }
        }
      ]
    },
    {
      "cell_type": "code",
      "metadata": {
        "id": "V31qNO2nncQI"
      },
      "source": [
        "#Defining the target variable and attributes\n",
        "X =fifa_final.drop(columns= ['date', 'home_team',\t'away_team','results'])\n",
        "y =fifa_final.results"
      ],
      "execution_count": 212,
      "outputs": []
    },
    {
      "cell_type": "code",
      "metadata": {
        "id": "nXipk2BGnut7"
      },
      "source": [
        "# Spliting the data into training and testing sets\n",
        "X_train, X_test, y_train, y_test = train_test_split(X, y, test_size = 0.2, random_state=0)\n",
        "\n",
        "# Fitting our model\n",
        "# \n",
        "from sklearn.linear_model import LogisticRegression\n",
        "\n",
        "LogReg = LogisticRegression()\n",
        "LogReg.fit(X_train, y_train)\n",
        "\n",
        "# Using our model to make a prediction\n",
        "#\n",
        "y_pred = LogReg.predict(X_test)"
      ],
      "execution_count": 214,
      "outputs": []
    },
    {
      "cell_type": "code",
      "metadata": {
        "colab": {
          "base_uri": "https://localhost:8080/"
        },
        "id": "7Wrt4h8Nnx04",
        "outputId": "55ccca24-d735-495e-80cc-a2baed9feaa9"
      },
      "source": [
        "# Evaluating the model\n",
        "#\n",
        "from sklearn.metrics import confusion_matrix\n",
        "confusion_matrix = confusion_matrix(y_test, y_pred)\n",
        "confusion_matrix"
      ],
      "execution_count": 215,
      "outputs": [
        {
          "output_type": "execute_result",
          "data": {
            "text/plain": [
              "array([[ 797,    0,    0],\n",
              "       [   0,  898,    0],\n",
              "       [   0,    0, 1537]])"
            ]
          },
          "metadata": {
            "tags": []
          },
          "execution_count": 215
        }
      ]
    },
    {
      "cell_type": "code",
      "metadata": {
        "colab": {
          "base_uri": "https://localhost:8080/"
        },
        "id": "U6f3gF8JoQxv",
        "outputId": "25ce36bf-3d96-4add-9629-b104a3c50e4f"
      },
      "source": [
        "# Measuring the accuracy of the model\n",
        "#\n",
        "from sklearn.metrics import accuracy_score\n",
        "print(f'The accuracy of the model is {accuracy_score(y_test, y_pred)}')"
      ],
      "execution_count": 217,
      "outputs": [
        {
          "output_type": "stream",
          "text": [
            "The accuracy of the model is 1.0\n"
          ],
          "name": "stdout"
        }
      ]
    },
    {
      "cell_type": "markdown",
      "metadata": {
        "id": "8uh8s0DMoqHF"
      },
      "source": [
        " The model has an accuracy of 100%.It is clearly overfitting on the training data; \n",
        "Therefore we need to reevaluate our model"
      ]
    },
    {
      "cell_type": "markdown",
      "metadata": {
        "id": "L91D2OtPo3ik"
      },
      "source": [
        "**Hyperparameter Tuning**"
      ]
    },
    {
      "cell_type": "code",
      "metadata": {
        "id": "cESCZaiprfOI"
      },
      "source": [
        "\n",
        "X = fifa_final.drop(['results', 'home_team', 'away_team','date', 'tournament'],axis=1)\n",
        "y = fifa_final[\"result\"]\n",
        "\n",
        "# Performing Data Preprocessing\n",
        "# ---\n",
        "X_train, X_test, y_train, y_test = train_test_split(X, y)"
      ],
      "execution_count": 228,
      "outputs": []
    },
    {
      "cell_type": "code",
      "metadata": {
        "colab": {
          "base_uri": "https://localhost:8080/"
        },
        "id": "yzGhTj7psGrU",
        "outputId": "1086a0e0-0c16-44d7-cfca-cad043af5f28"
      },
      "source": [
        "\n",
        "# random search logistic regression model on the fifa dataset\n",
        "from scipy.stats import loguniform\n",
        "from pandas import read_csv\n",
        "from sklearn.linear_model import LogisticRegression\n",
        "from sklearn.model_selection import RepeatedStratifiedKFold\n",
        "from sklearn.model_selection import RandomizedSearchCV\n",
        "from scipy.stats import uniform\n",
        "\n",
        "# define model\n",
        "logistic = LogisticRegression(solver='saga', tol=1e-2, max_iter=200,random_state=0)\n",
        "\n",
        "distributions = dict(C=uniform(loc=0, scale=4),penalty=['l2', 'l1'])\n",
        "\n",
        "clf = RandomizedSearchCV(logistic, distributions, random_state=0)\n",
        "\n",
        "search = clf.fit(X,y)\n",
        "\n",
        "search.best_params_"
      ],
      "execution_count": 229,
      "outputs": [
        {
          "output_type": "execute_result",
          "data": {
            "text/plain": [
              "{'C': 2.195254015709299, 'penalty': 'l1'}"
            ]
          },
          "metadata": {
            "tags": []
          },
          "execution_count": 229
        }
      ]
    },
    {
      "cell_type": "markdown",
      "metadata": {
        "id": "ioYjTddIseyj"
      },
      "source": [
        "\n",
        "our best parameters are 'C': 2.195254015709299, 'penalty': 'l1'"
      ]
    },
    {
      "cell_type": "markdown",
      "metadata": {
        "id": "WZxzjW0MtDx5"
      },
      "source": [
        "## **7.Challenging the Solution**"
      ]
    },
    {
      "cell_type": "markdown",
      "metadata": {
        "id": "QNm9UV2Tt06H"
      },
      "source": [
        "Our Polynomial regressions models were not as effective hence other prediction models could have been used to predict the scores successfully."
      ]
    },
    {
      "cell_type": "markdown",
      "metadata": {
        "id": "NiFzEJb_uIhf"
      },
      "source": [
        "# **8.Conclusion**"
      ]
    },
    {
      "cell_type": "markdown",
      "metadata": {
        "id": "m2mLogecuVj8"
      },
      "source": [
        "We were able to analyse the dataset and come up with predictive models.However for our polynomial regression models, the RMSE are close to the mean of the target variables meaning the predictive model may not be the optimal model to use for this dataset. We need to reevaluate our variables and explore other models to perform predictions."
      ]
    }
  ]
}